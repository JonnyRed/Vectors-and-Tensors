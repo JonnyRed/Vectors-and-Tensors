{
 "cells": [
  {
   "cell_type": "code",
   "execution_count": 2,
   "metadata": {},
   "outputs": [],
   "source": [
    "import math\n",
    "import sympy as sp\n",
    "import sympy.physics.vector as spv\n",
    "\n",
    "import IPython.display as ipd\n",
    "spv.init_vprinting()\n",
    "%matplotlib inline\n",
    "\n",
    "HALF = sp.S.Half\n",
    "PI = sp.pi\n",
    "E = sp.exp\n",
    "POSITIVEINFINITY = sp.S.Infinity\n",
    "\n",
    "\n",
    "def reference_frame(\n",
    "    frame: str,\n",
    "    x=r'\\imath', y=r'\\jmath', z=r'\\mathbf k'\n",
    ") -> spv.ReferenceFrame:\n",
    "    return spv.ReferenceFrame(\n",
    "        frame, latexs=(\n",
    "            fr'\\; {{}}^\\mathcal {frame} \\hat {x}',\n",
    "            fr'\\;{{}}^\\mathcal {frame} \\hat {y}',\n",
    "            fr'\\: {{}}^\\mathcal {frame} \\hat {{z}}'\n",
    "        )\n",
    "    )\n",
    "\n",
    "\n",
    "def RAOreference_frame(\n",
    "    frame: str,\n",
    "    x=r'E_1', y='E_2', z=r'E_3'\n",
    ") -> spv.ReferenceFrame:\n",
    "    return spv.ReferenceFrame(\n",
    "        frame, latexs=(\n",
    "            fr'\\; {{}}^{frame} \\hat {x}',\n",
    "            fr'\\;{{}}^{frame} \\hat {y}',\n",
    "            fr'\\: {{}}^{frame} \\hat {z}'\n",
    "        )\n",
    "    )\n",
    "\n",
    "\n",
    "def vector(F: spv.ReferenceFrame, rx, ry, rz=0) -> spv.Vector:\n",
    "    return rx*F.x + ry*F.y + rz*F.z\n",
    "\n",
    "\n",
    "def vector_cos(\n",
    "    F: spv.ReferenceFrame, magnitude,\n",
    "    angle_x, angle_y, angle_z=sp.pi/2\n",
    ") -> spv.Vector:\n",
    "    return (magnitude *\n",
    "            (sp.cos(angle_x)*F.x\n",
    "             + sp.cos(angle_y)*F.y\n",
    "             + sp.cos(angle_z)*F.z\n",
    "             )\n",
    "            )\n",
    "\n",
    "\n",
    "def vector_line(\n",
    "    start: spv.Vector, finish: spv.Vector\n",
    ") -> spv.Vector:\n",
    "    return finish - start\n",
    "\n",
    "\n",
    "def vector_line_eqn(\n",
    "    F: spv.ReferenceFrame, start: spv.Vector, finish: spv.Vector, kappa\n",
    ") -> spv.Vector:\n",
    "    return start + vector_line(start, finish).normalize()*kappa\n",
    "\n",
    "\n",
    "def angle_between_vectors(a: spv.Vector, b: spv.Vector):\n",
    "    return sp.acos(a.dot(b)/a.magnitude()/b.magnitude())\n",
    "\n",
    "\n",
    "def print_aligned_latex_equations(*args):\n",
    "    result = r'\\\\'.join([\n",
    "        r'\\begin{equation}',\n",
    "        r'\\begin{split}',\n",
    "        *args,\n",
    "        r'\\nonumber',\n",
    "        r'\\end{split}',\n",
    "        r'\\end{equation}'\n",
    "    ])\n",
    "\n",
    "    ipd.display(ipd.Math( rf'{result}'))"
   ]
  },
  {
   "cell_type": "markdown",
   "metadata": {},
   "source": [
    "1.1 (a) If $\\vert \\vec B \\vert $ = 18 m and  points along the negative x-axis, \n",
    "what are $B_x$ and $B_y$?\n",
    "\n"
   ]
  },
  {
   "cell_type": "code",
   "execution_count": 9,
   "metadata": {},
   "outputs": [
    {
     "data": {
      "text/latex": [
       "$\\displaystyle - 18\\; {}^\\mathcal F \\hat \\imath$"
      ],
      "text/plain": [
       "-18 f_x"
      ]
     },
     "metadata": {},
     "output_type": "display_data"
    },
    {
     "data": {
      "image/png": "[encoded data removed]",
      "text/latex": [
       "$\\displaystyle \\left( -18, \\  0\\right)$"
      ],
      "text/plain": [
       "(-18, 0)"
      ]
     },
     "execution_count": 9,
     "metadata": {},
     "output_type": "execute_result"
    }
   ],
   "source": [
    "F = reference_frame(\"F\")\n",
    "vec_b = vector_cos(F, 18, PI, PI/2)\n",
    "display(vec_b)\n",
    "vec_b.dot(F.x), vec_b.dot(F.y)"
   ]
  },
  {
   "cell_type": "markdown",
   "metadata": {},
   "source": [
    "1.1 (b) If $C_x = –3$ m/s and $C_y = 5$ m/s, find the magnitude of $\\vec C$ \n",
    "and the angle that $\\vec C$  makes with the positive x-axis.\n"
   ]
  },
  {
   "cell_type": "code",
   "execution_count": 14,
   "metadata": {},
   "outputs": [
    {
     "data": {
      "image/png": "[encoded data removed]",
      "text/latex": [
       "$\\displaystyle \\sqrt{34}$"
      ],
      "text/plain": [
       "√34"
      ]
     },
     "metadata": {},
     "output_type": "display_data"
    },
    {
     "data": {
      "image/png": "[encoded data removed]",
      "text/latex": [
       "$\\displaystyle 120.963756532074$"
      ],
      "text/plain": [
       "120.96375653207352"
      ]
     },
     "execution_count": 14,
     "metadata": {},
     "output_type": "execute_result"
    }
   ],
   "source": [
    "F = reference_frame(\"F\")\n",
    "vec_c = vector(F, -3, 5)\n",
    "display(vec_c.magnitude())\n",
    "math.degrees(vec_c.angle_between(F.x).evalf())"
   ]
  }
 ],
 "metadata": {
  "kernelspec": {
   "display_name": "sympy",
   "language": "python",
   "name": "python3"
  },
  "language_info": {
   "codemirror_mode": {
    "name": "ipython",
    "version": 3
   },
   "file_extension": ".py",
   "mimetype": "text/x-python",
   "name": "python",
   "nbconvert_exporter": "python",
   "pygments_lexer": "ipython3",
   "version": "3.10.13"
  }
 },
 "nbformat": 4,
 "nbformat_minor": 2
}

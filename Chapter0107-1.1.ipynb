{
 "cells": [
  {
   "cell_type": "code",
   "execution_count": 1,
   "metadata": {},
   "outputs": [],
   "source": [
    "import math\n",
    "import sympy as sp\n",
    "import sympy.physics.vector as spv\n",
    "\n",
    "import IPython.display as ipd\n",
    "spv.init_vprinting()\n",
    "%matplotlib inline\n",
    "\n",
    "HALF = sp.S.Half\n",
    "PI = sp.pi\n",
    "E = sp.exp\n",
    "POSITIVEINFINITY = sp.S.Infinity\n",
    "\n",
    "\n",
    "def reference_frame(\n",
    "    frame: str,\n",
    "    x=r'\\imath', y=r'\\jmath', z=r'\\mathbf k'\n",
    ") -> spv.ReferenceFrame:\n",
    "    return spv.ReferenceFrame(\n",
    "        frame, latexs=(\n",
    "            fr'\\; {{}}^\\mathcal {frame} \\hat {x}',\n",
    "            fr'\\;{{}}^\\mathcal {frame} \\hat {y}',\n",
    "            fr'\\: {{}}^\\mathcal {frame} \\hat {{z}}'\n",
    "        )\n",
    "    )\n",
    "\n",
    "\n",
    "def RAOreference_frame(\n",
    "    frame: str,\n",
    "    x=r'E_1', y='E_2', z=r'E_3'\n",
    ") -> spv.ReferenceFrame:\n",
    "    return spv.ReferenceFrame(\n",
    "        frame, latexs=(\n",
    "            fr'\\; {{}}^{frame} \\hat {x}',\n",
    "            fr'\\;{{}}^{frame} \\hat {y}',\n",
    "            fr'\\: {{}}^{frame} \\hat {z}'\n",
    "        )\n",
    "    )\n",
    "\n",
    "\n",
    "def vector(F: spv.ReferenceFrame, rx, ry, rz=0) -> spv.Vector:\n",
    "    return rx*F.x + ry*F.y + rz*F.z\n",
    "\n",
    "\n",
    "def vector_cos(\n",
    "    F: spv.ReferenceFrame, magnitude,\n",
    "    angle_x, angle_y, angle_z=sp.pi/2\n",
    ") -> spv.Vector:\n",
    "    return (magnitude *\n",
    "            (sp.cos(angle_x)*F.x\n",
    "             + sp.cos(angle_y)*F.y\n",
    "             + sp.cos(angle_z)*F.z\n",
    "             )\n",
    "            )\n",
    "\n",
    "\n",
    "def vector_line(\n",
    "    start: spv.Vector, finish: spv.Vector\n",
    ") -> spv.Vector:\n",
    "    return finish - start\n",
    "\n",
    "\n",
    "def vector_line_eqn(\n",
    "    F: spv.ReferenceFrame, start: spv.Vector, finish: spv.Vector, kappa\n",
    ") -> spv.Vector:\n",
    "    return start + vector_line(start, finish).normalize()*kappa\n",
    "\n",
    "\n",
    "def angle_between_vectors(a: spv.Vector, b: spv.Vector):\n",
    "    return sp.acos(a.dot(b)/a.magnitude()/b.magnitude())\n",
    "\n",
    "\n",
    "def print_aligned_latex_equations(*args):\n",
    "    result = r'\\\\'.join([\n",
    "        r'\\begin{equation}',\n",
    "        r'\\begin{split}',\n",
    "        *args,\n",
    "        r'\\nonumber',\n",
    "        r'\\end{split}',\n",
    "        r'\\end{equation}'\n",
    "    ])\n",
    "\n",
    "    ipd.display(ipd.Math( rf'{result}'))"
   ]
  },
  {
   "cell_type": "markdown",
   "metadata": {},
   "source": [
    "1.1 (a) If $\\vert \\vec B \\vert $ = 18 m and  points along the negative x-axis, \n",
    "what are $B_x$ and $B_y$?\n",
    "\n"
   ]
  },
  {
   "cell_type": "code",
   "execution_count": 2,
   "metadata": {},
   "outputs": [
    {
     "data": {
      "text/latex": [
       "$\\displaystyle - 18\\; {}^\\mathcal F \\hat \\imath$"
      ],
      "text/plain": [
       "-18 f_x"
      ]
     },
     "metadata": {},
     "output_type": "display_data"
    },
    {
     "data": {
      "image/png": "[encoded data removed]",
      "text/latex": [
       "$\\displaystyle \\left( -18, \\  0\\right)$"
      ],
      "text/plain": [
       "(-18, 0)"
      ]
     },
     "execution_count": 2,
     "metadata": {},
     "output_type": "execute_result"
    }
   ],
   "source": [
    "F = reference_frame(\"F\")\n",
    "vec_b = vector_cos(F, 18, PI, PI/2)\n",
    "display(vec_b)\n",
    "vec_b.dot(F.x), vec_b.dot(F.y)"
   ]
  },
  {
   "cell_type": "markdown",
   "metadata": {},
   "source": [
    "1.1 (b) If $C_x = –3$ m/s and $C_y = 5$ m/s, find the magnitude of $\\vec C$ \n",
    "and the angle that $\\vec C$  makes with the positive x-axis.\n"
   ]
  },
  {
   "cell_type": "code",
   "execution_count": 3,
   "metadata": {},
   "outputs": [
    {
     "data": {
      "image/png": "[encoded data removed]",
      "text/latex": [
       "$\\displaystyle \\sqrt{34}$"
      ],
      "text/plain": [
       "√34"
      ]
     },
     "metadata": {},
     "output_type": "display_data"
    },
    {
     "data": {
      "image/png": "[encoded data removed]",
      "text/latex": [
       "$\\displaystyle 120.963756532074$"
      ],
      "text/plain": [
       "120.96375653207352"
      ]
     },
     "execution_count": 3,
     "metadata": {},
     "output_type": "execute_result"
    }
   ],
   "source": [
    "F = reference_frame(\"F\")\n",
    "vec_c = vector(F, -3, 5)\n",
    "display(vec_c.magnitude())\n",
    "math.degrees(vec_c.angle_between(F.x).evalf())"
   ]
  },
  {
   "cell_type": "markdown",
   "metadata": {},
   "source": [
    "1.2 Vector  $\\vec A$ has magnitude of $11$ m/s2 and makes an angle of\n",
    "$65^\\circ$ degrees with the positive x-axis, and vector $\\vec B$  has\n",
    "Cartesian components $B_x =4$ m/s2, $B_y = – 3$ m/s2. \n",
    "If vector  $\\vec C = \\vec A +  \\vec B$, \n",
    "1. Find the x- and y-components of $\\vec C$ \n",
    "1. What are the magnitude and direction of $\\vec C$? \n"
   ]
  },
  {
   "cell_type": "code",
   "execution_count": 6,
   "metadata": {},
   "outputs": [
    {
     "data": {
      "image/png": "[encoded data removed]",
      "text/latex": [
       "$\\displaystyle 8.64880087914769$"
      ],
      "text/plain": [
       "8.64880087914769"
      ]
     },
     "metadata": {},
     "output_type": "display_data"
    },
    {
     "data": {
      "image/png": "[encoded data removed]",
      "text/latex": [
       "$\\displaystyle 6.96938565740315$"
      ],
      "text/plain": [
       "6.96938565740315"
      ]
     },
     "metadata": {},
     "output_type": "display_data"
    },
    {
     "data": {
      "image/png": "[encoded data removed]",
      "text/latex": [
       "$\\displaystyle \\left( 11.1073891211555, \\  38.8625978069461\\right)$"
      ],
      "text/plain": [
       "(11.1073891211555, 38.862597806946084)"
      ]
     },
     "execution_count": 6,
     "metadata": {},
     "output_type": "execute_result"
    }
   ],
   "source": [
    "F = reference_frame(\"R\")\n",
    "vec_a = vector_cos(F,11, math.radians(65), math.radians(90-65))\n",
    "vec_b = 4*F.x + (-3)*F.y\n",
    "vec_c = vec_a + vec_b\n",
    "display(vec_c.dot(F.x), vec_c.dot(F.y))\n",
    "vec_c.magnitude(), math.degrees(vec_c.angle_between(F.x))"
   ]
  },
  {
   "cell_type": "code",
   "execution_count": 5,
   "metadata": {},
   "outputs": [
    {
     "data": {
      "text/plain": [
       "['__doc__',\n",
       " '__loader__',\n",
       " '__name__',\n",
       " '__package__',\n",
       " '__spec__',\n",
       " 'acos',\n",
       " 'acosh',\n",
       " 'asin',\n",
       " 'asinh',\n",
       " 'atan',\n",
       " 'atan2',\n",
       " 'atanh',\n",
       " 'ceil',\n",
       " 'comb',\n",
       " 'copysign',\n",
       " 'cos',\n",
       " 'cosh',\n",
       " 'degrees',\n",
       " 'dist',\n",
       " 'e',\n",
       " 'erf',\n",
       " 'erfc',\n",
       " 'exp',\n",
       " 'expm1',\n",
       " 'fabs',\n",
       " 'factorial',\n",
       " 'floor',\n",
       " 'fmod',\n",
       " 'frexp',\n",
       " 'fsum',\n",
       " 'gamma',\n",
       " 'gcd',\n",
       " 'hypot',\n",
       " 'inf',\n",
       " 'isclose',\n",
       " 'isfinite',\n",
       " 'isinf',\n",
       " 'isnan',\n",
       " 'isqrt',\n",
       " 'lcm',\n",
       " 'ldexp',\n",
       " 'lgamma',\n",
       " 'log',\n",
       " 'log10',\n",
       " 'log1p',\n",
       " 'log2',\n",
       " 'modf',\n",
       " 'nan',\n",
       " 'nextafter',\n",
       " 'perm',\n",
       " 'pi',\n",
       " 'pow',\n",
       " 'prod',\n",
       " 'radians',\n",
       " 'remainder',\n",
       " 'sin',\n",
       " 'sinh',\n",
       " 'sqrt',\n",
       " 'tan',\n",
       " 'tanh',\n",
       " 'tau',\n",
       " 'trunc',\n",
       " 'ulp']"
      ]
     },
     "execution_count": 5,
     "metadata": {},
     "output_type": "execute_result"
    }
   ],
   "source": [
    "dir(math)"
   ]
  },
  {
   "cell_type": "markdown",
   "metadata": {},
   "source": [
    "\n",
    "1.3 Imagine that the y-axis points north and the x-axis points east. \n",
    "1. If you travel a distance $r = 22$ km in a straight line from the origin in a direction \n",
    "35 degrees south of west, what is your position in Cartesian $(x, y)$ coordinates? \n",
    "1. If you travel 6 miles due south from the origin and then turn west and travel 2 miles, \n",
    "how far from the origin and in what direction is your final position? \n"
   ]
  },
  {
   "cell_type": "markdown",
   "metadata": {},
   "source": [
    "\n",
    "1.4 What are the x- and y-components of the polar unit vectors $\\hat r $ \n",
    "and $\\hat \\theta$  when \n",
    "1. $\\theta$ = $180^\\circ$? \n",
    "1. $\\theta$ = $45^\\circ$? \n",
    "1. $\\theta$ = $215^\\circ$? "
   ]
  },
  {
   "cell_type": "markdown",
   "metadata": {},
   "source": [
    "\n",
    "1.5 Cylindrical coordinates \n",
    "1. If r = 2 meters, $\\phi= 35\\circ$ degrees, and z = 1 meter, \n",
    "what are x, y, and z? \n",
    "1. If $(x, y, z) = (3, 2, 4)$ meters, what are $(r, \\phi, z)$? \n"
   ]
  },
  {
   "cell_type": "markdown",
   "metadata": {},
   "source": [
    "\n",
    "1.6 \n",
    "1. In cylindrical coordinates, show that  points along the x-axis if $\\phi= 0$. \n",
    "1. In what direction is  if $\\phi = 90^\\circ$ degrees? "
   ]
  },
  {
   "cell_type": "markdown",
   "metadata": {},
   "source": [
    "\n",
    "1.7 \n",
    "1. In spherical coordinates, find x, y, and z if $ = 25$ meters, \n",
    "$\\theta= 25^\\circ $, and $\\phi = 110^\\circ$. \n",
    "1. Find $(r, \\phi, z)$ if $(x, y, z) = (8, 10, 15)$ meters. \n"
   ]
  },
  {
   "cell_type": "markdown",
   "metadata": {},
   "source": [
    "\n",
    "1.8 \n",
    "1. For spherical coordinates, show that $\\hat \\theta$ points along the \n",
    "negative z-axis if $\\theta = 90^\\circ$. \n",
    "1. If $\\phi = 90^circ$,  in what direction are $\\hat r$  and $\\hat \\phi$? \n"
   ]
  },
  {
   "cell_type": "markdown",
   "metadata": {},
   "source": [
    "\n",
    "1.9 As you can read in Chapter 3, the magnetic field around a long, \n",
    "straight wire carrying a steady current I is given in spherical \n",
    "coordinates by the expression ,\n",
    "$$ \\frac{\\mu_0 I}{2 \\pi R} \\hat \\phi$$ \n",
    "where $\\mu_0$ is a constant and $R$ is the perpendicular distance \n",
    "from the wire to the observation point. \n",
    "\n",
    "Find an expression for  in Cartesian coordinates. \n"
   ]
  },
  {
   "cell_type": "markdown",
   "metadata": {},
   "source": [
    "\n",
    "1.10 If \n",
    "\\begin{align*}\n",
    "\\vec e_1 &= 5 \\hat \\imath – 3 \\hat \\jmath + 2 \\\\\n",
    "\\vec e_2 &= \\hat \\imath – 3  \\hat {\\mathbb k} \\\\\n",
    "\\vec e_3 &= 2î + ĵ – 4\n",
    "\\end{align*}\n",
    "\n",
    "what are the unit vectors $\\vec e_1, \\vec e_2, \\vec e_2$\n",
    "\n"
   ]
  }
 ],
 "metadata": {
  "kernelspec": {
   "display_name": "sympy",
   "language": "python",
   "name": "python3"
  },
  "language_info": {
   "codemirror_mode": {
    "name": "ipython",
    "version": 3
   },
   "file_extension": ".py",
   "mimetype": "text/x-python",
   "name": "python",
   "nbconvert_exporter": "python",
   "pygments_lexer": "ipython3",
   "version": "3.10.10"
  }
 },
 "nbformat": 4,
 "nbformat_minor": 2
}

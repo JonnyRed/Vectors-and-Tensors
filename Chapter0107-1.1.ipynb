{
 "cells": [
  {
   "cell_type": "code",
   "execution_count": 1,
   "metadata": {},
   "outputs": [],
   "source": [
    "import math\n",
    "\n",
    "import spb\n",
    "import sympy as sp\n",
    "import sympy.physics.vector as spv\n",
    "\n",
    "import IPython.display as ipd\n",
    "spv.init_vprinting()\n",
    "%matplotlib inline\n",
    "\n",
    "HALF = sp.S.Half\n",
    "PI = sp.pi\n",
    "E = sp.exp\n",
    "POSITIVEINFINITY = sp.S.Infinity\n",
    "\n",
    "\n",
    "def reference_frame(\n",
    "    frame: str,\n",
    "    x=r'\\imath', y=r'\\jmath', z=r'\\mathbf k'\n",
    ") -> spv.ReferenceFrame:\n",
    "    return spv.ReferenceFrame(\n",
    "        frame, latexs=(\n",
    "            fr'\\; {{}}^\\mathcal {frame} \\hat {x}',\n",
    "            fr'\\;{{}}^\\mathcal {frame} \\hat {y}',\n",
    "            fr'\\: {{}}^\\mathcal {frame} {z}'\n",
    "        )\n",
    "    )\n",
    "\n",
    "\n",
    "def RAOreference_frame(\n",
    "    frame: str,\n",
    "    x=r'E_1', y='E_2', z=r'E_3'\n",
    ") -> spv.ReferenceFrame:\n",
    "    return spv.ReferenceFrame(\n",
    "        frame, latexs=(\n",
    "            fr'\\; {{}}^{frame} \\hat {x}',\n",
    "            fr'\\;{{}}^{frame} \\hat {y}',\n",
    "            fr'\\: {{}}^{frame} \\hat {z}'\n",
    "        )\n",
    "    )\n",
    "\n",
    "\n",
    "def vector(F: spv.ReferenceFrame, rx, ry, rz=0) -> spv.Vector:\n",
    "    return rx*F.x + ry*F.y + rz*F.z\n",
    "\n",
    "\n",
    "def vector_cos(\n",
    "    F: spv.ReferenceFrame, magnitude,\n",
    "    angle_x, angle_y, angle_z=sp.pi/2\n",
    ") -> spv.Vector:\n",
    "    return (magnitude *\n",
    "            (sp.cos(angle_x)*F.x\n",
    "             + sp.cos(angle_y)*F.y\n",
    "             + sp.cos(angle_z)*F.z\n",
    "             )\n",
    "            )\n",
    "\n",
    "\n",
    "def vector_line(\n",
    "    start: spv.Vector, finish: spv.Vector\n",
    ") -> spv.Vector:\n",
    "    return finish - start\n",
    "\n",
    "\n",
    "def vector_line_eqn(\n",
    "    F: spv.ReferenceFrame, start: spv.Vector, finish: spv.Vector, kappa\n",
    ") -> spv.Vector:\n",
    "    return start + vector_line(start, finish).normalize()*kappa\n",
    "\n",
    "\n",
    "def angle_between_vectors(a: spv.Vector, b: spv.Vector):\n",
    "    return sp.acos(a.dot(b)/a.magnitude()/b.magnitude())\n",
    "\n",
    "\n",
    "def print_aligned_latex_equations(*args):\n",
    "    result = r'\\\\'.join([\n",
    "        r'\\begin{equation}',\n",
    "        r'\\begin{split}',\n",
    "        *args,\n",
    "        r'\\nonumber',\n",
    "        r'\\end{split}',\n",
    "        r'\\end{equation}'\n",
    "    ])\n",
    "\n",
    "    ipd.display(ipd.Math( rf'{result}'))"
   ]
  },
  {
   "cell_type": "markdown",
   "metadata": {},
   "source": [
    "1.1 (a) If $\\vert \\vec B \\vert $ = 18 m and  points along the negative x-axis, \n",
    "what are $B_x$ and $B_y$?\n",
    "\n"
   ]
  },
  {
   "cell_type": "code",
   "execution_count": 2,
   "metadata": {},
   "outputs": [
    {
     "data": {
      "text/latex": [
       "$\\displaystyle \\begin{equation}\\\\\\begin{split}\\\\B_x, B_y &=(-18, 0)\\\\\\nonumber\\\\\\end{split}\\\\\\end{equation}$"
      ],
      "text/plain": [
       "<IPython.core.display.Math object>"
      ]
     },
     "metadata": {},
     "output_type": "display_data"
    }
   ],
   "source": [
    "F = reference_frame(\"F\")\n",
    "vec_b = vector_cos(F, 18, PI, PI/2)\n",
    "b_x, b_y = vec_b.dot(F.x), vec_b.dot(F.y)\n",
    "\n",
    "solution_text = [\n",
    "    r'B_x, B_y &=' fr'{(b_x, b_y)}'\n",
    "]\n",
    "\n",
    "print_aligned_latex_equations(*solution_text)\n"
   ]
  },
  {
   "cell_type": "markdown",
   "metadata": {},
   "source": [
    "1.1 (b) If $C_x = –3$ m/s and $C_y = 5$ m/s, find the magnitude of $\\vec C$ \n",
    "and the angle that $\\vec C$  makes with the positive x-axis.\n"
   ]
  },
  {
   "cell_type": "code",
   "execution_count": 3,
   "metadata": {},
   "outputs": [
    {
     "data": {
      "text/latex": [
       "$\\displaystyle \\begin{equation}\\\\\\begin{split}\\\\\\textrm{magnitude of } \\vec C &=\\sqrt{34}\\\\\\textrm{Angle with }+x \\textrm{ axis} &=120.963756532074^\\circ\\\\\\nonumber\\\\\\end{split}\\\\\\end{equation}$"
      ],
      "text/plain": [
       "<IPython.core.display.Math object>"
      ]
     },
     "metadata": {},
     "output_type": "display_data"
    }
   ],
   "source": [
    "F = reference_frame(\"F\")\n",
    "vec_c = vector(F, -3, 5)\n",
    "magnitude = vec_c.magnitude()\n",
    "angle = math.degrees(vec_c.angle_between(F.x).evalf())\n",
    "solution_text = [\n",
    "    r'\\textrm{magnitude of } \\vec C &=' \n",
    "        fr'{spv.vlatex(vec_c.magnitude())}',\n",
    "    r'\\textrm{Angle with }+x \\textrm{ axis} &=' fr'{spv.vlatex(angle)}^\\circ'\n",
    "]\n",
    "\n",
    "print_aligned_latex_equations(*solution_text)\n"
   ]
  },
  {
   "cell_type": "markdown",
   "metadata": {},
   "source": [
    "1.2 Vector  $\\vec A$ has magnitude of $11$ m/s2 and makes an angle of\n",
    "$65^\\circ$ degrees with the positive x-axis, and vector $\\vec B$  has\n",
    "Cartesian components $B_x =4$ m/s2, $B_y = – 3$ m/s2. \n",
    "If vector  $\\vec C = \\vec A +  \\vec B$, \n",
    "1. Find the x- and y-components of $\\vec C$ \n",
    "1. What are the magnitude and direction of $\\vec C$? \n"
   ]
  },
  {
   "cell_type": "code",
   "execution_count": 4,
   "metadata": {},
   "outputs": [
    {
     "data": {
      "text/latex": [
       "$\\displaystyle \\begin{equation}\\\\\\begin{split}\\\\\\textrm{Components of } \\vec C &=(8.64880087914769, 6.96938565740315)\\\\\\textrm{magnitude } &=11.1073891211555\\\\\\textrm{direction } &=38.862597806946084\\\\\\nonumber\\\\\\end{split}\\\\\\end{equation}$"
      ],
      "text/plain": [
       "<IPython.core.display.Math object>"
      ]
     },
     "metadata": {},
     "output_type": "display_data"
    }
   ],
   "source": [
    "F = reference_frame(\"F\")\n",
    "vec_a = vector_cos(F,11, math.radians(65), math.radians(90-65))\n",
    "vec_b = 4*F.x + (-3)*F.y\n",
    "vec_c = vec_a + vec_b\n",
    "c_x, c_y = vec_c.dot(F.x), vec_c.dot(F.y)\n",
    "magnitude, direction = vec_c.magnitude(), math.degrees(vec_c.angle_between(F.x))\n",
    "\n",
    "solution_text = [\n",
    "    r'\\textrm{Components of } \\vec C &=' fr'{c_x, c_y}',\n",
    "    r'\\textrm{magnitude } &=' fr'{magnitude}',\n",
    "    r'\\textrm{direction } &=' fr'{direction}'\n",
    "]\n",
    "\n",
    "print_aligned_latex_equations(*solution_text)"
   ]
  },
  {
   "cell_type": "markdown",
   "metadata": {},
   "source": [
    "\n",
    "1.3 Imagine that the y-axis points north and the x-axis points east. \n",
    "1. If you travel a distance $r = 22$ km in a straight line from the origin in a direction $35^\\circ$ south of west, what is your position in Cartesian $(x, y)\n",
    "$ coordinates? \n",
    "1. If you travel 6 miles due south from the origin and then turn west \n",
    "and travel 2 miles, how far from the origin and in what direction \n",
    "is your final position? \n"
   ]
  },
  {
   "cell_type": "code",
   "execution_count": 5,
   "metadata": {},
   "outputs": [
    {
     "data": {
      "text/latex": [
       "$\\displaystyle \\begin{equation}\\\\\\begin{split}\\\\\\textrm{Components of position } \\vec C &=(-18.0213449743578, -12.6186815997230)\\\\\\textrm{distance } &=6.32\\\\\\textrm{direction smallest angle between } \\vec d\\textrm{ and }F.x&=108.43^\\circ\\\\ \\textrm{note: 180 - }108.43&= 71.57\\\\\\nonumber\\\\\\end{split}\\\\\\end{equation}$"
      ],
      "text/plain": [
       "<IPython.core.display.Math object>"
      ]
     },
     "metadata": {},
     "output_type": "display_data"
    }
   ],
   "source": [
    "F = reference_frame(\"F\")\n",
    "r, THETA = sp.symbols(\"R, theta\", positive=True)\n",
    "values = {r:22, THETA:math.radians(35)}\n",
    "\n",
    "vec_r = vector_cos(F, r, PI+THETA, PI/2+THETA)\n",
    "x, y = vec_r.dot(F.x).subs(values), vec_r.dot(F.y).subs(values)\n",
    "\n",
    "vec_d = 6*(-F.y) + 2*(-F.x) \n",
    "distance = round(vec_d.magnitude().evalf(), 2)\n",
    "direction = round(math.degrees(vec_d.angle_between(F.x)), 2)\n",
    "\n",
    "solution_text = [\n",
    "    r'\\textrm{Components of position } \\vec C &=' fr'{x, y}',\n",
    "    r'\\textrm{distance } &=' fr'{distance}',\n",
    "    r'\\textrm{direction smallest angle between } \\vec d' \n",
    "    r'\\textrm{ and }' fr'{F.x}' '&=' fr'{direction}^\\circ'\n",
    "    r'\\\\ \\textrm{note: 180 - }' fr'{direction}&= 71.57' \n",
    "]\n",
    "\n",
    "print_aligned_latex_equations(*solution_text)\n",
    "\n"
   ]
  },
  {
   "cell_type": "code",
   "execution_count": 6,
   "metadata": {},
   "outputs": [
    {
     "data": {
      "image/png": "[encoded data removed]",
      "text/latex": [
       "$\\displaystyle -108.43$"
      ],
      "text/plain": [
       "-108.43"
      ]
     },
     "execution_count": 6,
     "metadata": {},
     "output_type": "execute_result"
    }
   ],
   "source": [
    "round(math.degrees(sp.atan2(vec_d.dot(F.y), vec_d.dot(F.x)).evalf()), 2)"
   ]
  },
  {
   "cell_type": "markdown",
   "metadata": {},
   "source": [
    "\n",
    "1.4 What are the x- and y-components of the polar unit vectors $\\hat r $ \n",
    "and $\\hat \\theta$  when \n",
    "1. $\\theta$ = $180^\\circ$? \n",
    "1. $\\theta$ = $45^\\circ$? \n",
    "1. $\\theta$ = $215^\\circ$? "
   ]
  },
  {
   "cell_type": "code",
   "execution_count": 7,
   "metadata": {},
   "outputs": [
    {
     "data": {
      "text/latex": [
       "$\\displaystyle \\begin{equation}\\\\\\begin{split}\\\\\\textrm{Angle } 180\\quad \\textrm{ Components of } \\hat r, \\hat \\theta &=\\left( - \\; {}^\\mathcal F \\hat \\imath, \\  - \\;{}^\\mathcal F \\hat \\jmath\\right)\\\\\\textrm{Angle } 45\\quad \\textrm{ Components of } \\hat r, \\hat \\theta &=\\left( \\frac{\\sqrt{2}}{2}\\; {}^\\mathcal F \\hat \\imath + \\frac{\\sqrt{2}}{2}\\;{}^\\mathcal F \\hat \\jmath, \\  -  \\frac{\\sqrt{2}}{2}\\; {}^\\mathcal F \\hat \\imath + \\frac{\\sqrt{2}}{2}\\;{}^\\mathcal F \\hat \\jmath\\right)\\\\\\textrm{Angle } 215\\quad \\textrm{ Components of } \\hat r, \\hat \\theta &=\\left( -  \\cos{\\left(\\frac{7 \\pi}{36} \\right)}\\; {}^\\mathcal F \\hat \\imath -  \\sin{\\left(\\frac{7 \\pi}{36} \\right)}\\;{}^\\mathcal F \\hat \\jmath, \\  \\sin{\\left(\\frac{7 \\pi}{36} \\right)}\\; {}^\\mathcal F \\hat \\imath -  \\cos{\\left(\\frac{7 \\pi}{36} \\right)}\\;{}^\\mathcal F \\hat \\jmath\\right)\\\\\\nonumber\\\\\\end{split}\\\\\\end{equation}$"
      ],
      "text/plain": [
       "<IPython.core.display.Math object>"
      ]
     },
     "metadata": {},
     "output_type": "display_data"
    }
   ],
   "source": [
    "F = reference_frame(\"F\")\n",
    "\n",
    "components = []\n",
    "for THETA in [180, 45, 215]:\n",
    "    P = reference_frame(\"P\", r'{r}', r'\\theta')\n",
    "    P.orient_axis(F, F.z, THETA*PI/180)\n",
    "    components.extend([(P.x.express(F), P.y.express(F))])\n",
    "    \n",
    "solution_text = []\n",
    "for inx, THETA in enumerate([180, 45, 215]):\n",
    "    solution_text.extend(\n",
    "        [ r'\\textrm{Angle } ' fr'{THETA}' \n",
    "          r'\\quad \\textrm{ Components of } \\hat r, \\hat \\theta &=' \n",
    "            fr'{spv.vlatex(components[inx])}'\n",
    "        ]\n",
    "    )\n",
    "\n",
    "print_aligned_latex_equations(*solution_text)"
   ]
  },
  {
   "cell_type": "markdown",
   "metadata": {},
   "source": [
    "\n",
    "1.5 Cylindrical coordinates \n",
    "1. If r = 2 meters, $\\phi= 35^\\circ$, and z = 1 meter, \n",
    "what are x, y, and z? \n",
    "1. If $(x, y, z) = (3, 2, 4)$ meters, what are $(r, \\phi, z)$? \n",
    "\n",
    "![](./images/cylinder.jpg)\n"
   ]
  },
  {
   "cell_type": "code",
   "execution_count": 8,
   "metadata": {},
   "outputs": [
    {
     "data": {
      "text/latex": [
       "$\\displaystyle \\begin{equation}\\\\\\begin{split}\\\\\\textrm{Components x, y, z } &=(1.64, 1.15, 1.00)\\\\\\textrm{Components r, } \\phi, \\, z  &=\\sqrt{13}, \\; \\operatorname{atan}{\\left(\\frac{2}{3} \\right)},\\; 4\\\\\\nonumber\\\\\\end{split}\\\\\\end{equation}$"
      ],
      "text/plain": [
       "<IPython.core.display.Math object>"
      ]
     },
     "metadata": {},
     "output_type": "display_data"
    }
   ],
   "source": [
    "F = reference_frame(\"F\")\n",
    "C = reference_frame(\"C\", \"r\", \"\\phi\")\n",
    "\n",
    "C.orient_axis(F, F.z, 35/180*PI)\n",
    "\n",
    "result1 = (2*C.x + 1*C.z).express(F).applyfunc(lambda x: x.evalf(3))\n",
    "solution_text1 = (\n",
    "    r'\\textrm{Components x, y, z } &=' \n",
    "        fr'{result1.dot(F.x), result1.dot(F.y), result1.dot(F.z)}'\n",
    ")\n",
    "\n",
    "C = reference_frame(\"C\", \"r\", \"\\phi\")\n",
    "r, PHI = sp.symbols(\"r, phi\", real=True)\n",
    "C.orient_axis(F, F.z, PHI)\n",
    "\n",
    "vec_c = r*C.x + 4*C.z\n",
    "eqn2 = sp.Eq(vec_c.to_matrix(F), sp.Matrix([3, 2, 4]))\n",
    "result2 = sp.solve(eqn2)[0]\n",
    "\n",
    "solution_text2 = (\n",
    "    r'\\textrm{Components r, } \\phi, \\, z  &=' \n",
    "        fr'{spv.vlatex(result2[r])}, ' \n",
    "        fr'\\; {spv.vlatex(result2[PHI])},\\; 4'\n",
    ")\n",
    "\n",
    "print_aligned_latex_equations(solution_text1, solution_text2)\n"
   ]
  },
  {
   "cell_type": "markdown",
   "metadata": {},
   "source": [
    "\n",
    "1.6 \n",
    "1. In cylindrical coordinates, show that  points along the x-axis if $\\phi= 0$. \n",
    "1. In what direction is  if $\\phi = 90^\\circ$ degrees? \n",
    "\n",
    "![](./images/cylinder.jpg)"
   ]
  },
  {
   "cell_type": "markdown",
   "metadata": {},
   "source": [
    "\n",
    "1.7 \n",
    "1. In spherical coordinates, find x, y, and z if $r = 25$ meters, \n",
    "$\\theta= 25^\\circ $, and $\\phi = 110^\\circ$. \n",
    "1. Find $(r, \\phi, z)$ if $(x, y, z) = (8, 10, 15)$ meters. \n",
    "\n",
    "![](./images/spherical.jpg)\n"
   ]
  },
  {
   "cell_type": "code",
   "execution_count": 9,
   "metadata": {},
   "outputs": [
    {
     "data": {
      "text/latex": [
       "$\\displaystyle \\begin{equation}\\\\\\begin{split}\\\\\\textrm{Spherical in \\( \\mathcal S \\)  } &=\\rho\\: {}^\\mathcal S \\hat r\\\\\\textrm{Spherical in \\( \\mathcal F \\)  } &=\\rho \\sin{\\left(\\theta \\right)} \\cos{\\left(\\phi \\right)}\\; {}^\\mathcal F \\hat \\imath + \\rho \\sin{\\left(\\phi \\right)} \\sin{\\left(\\theta \\right)}\\;{}^\\mathcal F \\hat \\jmath + \\rho \\cos{\\left(\\theta \\right)}\\: {}^\\mathcal F \\mathbf k\\\\\\textrm{Components in \\( \\mathcal F \\)  } &=- 4.9*F.x + 13.47*F.y + 20.48*F.z\\\\\\nonumber\\\\\\end{split}\\\\\\end{equation}$"
      ],
      "text/plain": [
       "<IPython.core.display.Math object>"
      ]
     },
     "metadata": {},
     "output_type": "display_data"
    }
   ],
   "source": [
    "F = reference_frame(\"F\")\n",
    "S = reference_frame(\"S\", r\"\\phi\", r\"\\theta\", r\"\\hat r\")\n",
    "RHO, PHI, THETA = sp.symbols(\"rho, phi, theta\", real=True)\n",
    "S.orient_body_fixed(F, (PHI, THETA, 0), 'ZYZ')\n",
    "\n",
    "values = {RHO:25, PHI:110*PI/180, THETA:35*PI/180}\n",
    "\n",
    "vec_1 = RHO*S.z\n",
    "components = vec_1.express(F).subs(values).applyfunc(lambda x: round(x,2))\n",
    "\n",
    "solution_text = [\n",
    "    r'\\textrm{Spherical in \\( \\mathcal S \\)  } &=' fr'{spv.vlatex(vec_1)}',\n",
    "    r'\\textrm{Spherical in \\( \\mathcal F \\)  } &=' fr'{spv.vlatex(vec_1.express(F))}',\n",
    "    r'\\textrm{Components in \\( \\mathcal F \\)  } &=' fr'{components}',\n",
    "]\n",
    "\n",
    "print_aligned_latex_equations(*solution_text)\n",
    "\n",
    "vec_2 = RHO*S.z\n",
    "vec_2_in_F = vec_1.express(F)\n",
    "\n",
    "eqn = sp.Eq(vec_2_in_F.to_matrix(F), sp.Matrix([8, 10, 15]))\n",
    "solution = sp.solve(eqn, [RHO, THETA, PHI])"
   ]
  },
  {
   "cell_type": "code",
   "execution_count": 10,
   "metadata": {},
   "outputs": [
    {
     "data": {
      "text/latex": [
       "$\\displaystyle \\begin{equation}\\\\\\begin{split}\\\\\\textrm{Spherical \\( r, \\theta, \\phi \\)  } &=19.72, \\; 40.49^\\circ, \\; 51.34^\\circ\\\\\\nonumber\\\\\\end{split}\\\\\\end{equation}$"
      ],
      "text/plain": [
       "<IPython.core.display.Math object>"
      ]
     },
     "metadata": {},
     "output_type": "display_data"
    }
   ],
   "source": [
    "to_reals = ( v.evalf() for v in solution[1] )\n",
    "to_degrees = (\n",
    "    round(_ if ix == 0 else math.degrees(_), 2) \n",
    "        for ix, _ in enumerate(to_reals)\n",
    ")\n",
    "\n",
    "solution_text = [\n",
    "    r'\\textrm{Spherical \\( r, \\theta, \\phi \\)  } &=' \n",
    "        fr'{spv.vlatex(next(to_degrees))}'\n",
    "        fr', \\; {spv.vlatex(next(to_degrees))}^\\circ'\n",
    "        fr', \\; {spv.vlatex(next(to_degrees))}^\\circ'\n",
    "]\n",
    "\n",
    "print_aligned_latex_equations(*solution_text)\n"
   ]
  },
  {
   "cell_type": "markdown",
   "metadata": {},
   "source": [
    "\n",
    "1.8 \n",
    "1. For spherical coordinates, show that $\\hat \\theta$ points along the \n",
    "negative z-axis if $\\theta = 90^\\circ$. \n",
    "1. If $\\phi = 90^\\circ$,  in what direction are $\\hat r$  and $\\hat \\phi$? \n",
    "\n",
    "![](./images/spherical.jpg)\n",
    "\n",
    "##BUG Completely wrong revisit\n"
   ]
  },
  {
   "cell_type": "code",
   "execution_count": 11,
   "metadata": {},
   "outputs": [
    {
     "data": {
      "text/latex": [
       "$\\displaystyle \\sin{\\left(\\theta \\right)} \\cos{\\left(\\phi \\right)}\\; {}^\\mathcal F \\hat \\imath + \\sin{\\left(\\phi \\right)} \\sin{\\left(\\theta \\right)}\\;{}^\\mathcal F \\hat \\jmath + \\cos{\\left(\\theta \\right)}\\: {}^\\mathcal F \\mathbf k$"
      ],
      "text/plain": [
       "sin(θ)⋅cos(φ) f_x + sin(φ)⋅sin(θ) f_y + cos(θ) f_z"
      ]
     },
     "metadata": {},
     "output_type": "display_data"
    },
    {
     "data": {
      "text/latex": [
       "$\\displaystyle \\cos{\\left(\\phi \\right)} \\cos{\\left(\\theta \\right)}\\; {}^\\mathcal F \\hat \\imath + \\sin{\\left(\\phi \\right)} \\cos{\\left(\\theta \\right)}\\;{}^\\mathcal F \\hat \\jmath -  \\sin{\\left(\\theta \\right)}\\: {}^\\mathcal F \\mathbf k$"
      ],
      "text/plain": [
       "cos(φ)⋅cos(θ) f_x + sin(φ)⋅cos(θ) f_y + -sin(θ) f_z"
      ]
     },
     "metadata": {},
     "output_type": "display_data"
    },
    {
     "data": {
      "text/latex": [
       "$\\displaystyle -  \\sin{\\left(\\phi \\right)}\\; {}^\\mathcal F \\hat \\imath + \\cos{\\left(\\phi \\right)}\\;{}^\\mathcal F \\hat \\jmath$"
      ],
      "text/plain": [
       "-sin(φ) f_x + cos(φ) f_y"
      ]
     },
     "metadata": {},
     "output_type": "display_data"
    }
   ],
   "source": [
    "rho, phi, theta = sp.symbols(r\"rho, phi, theta\", real=True)\n",
    "F = reference_frame(\"F\")\n",
    "S = reference_frame(\"S\", r\"\\phi\", r\"\\theta\", r\"\\hat r\")\n",
    "S.orient_body_fixed(F, (phi, theta, 0), 'ZYZ')\n",
    "\n",
    "display(S.z.express(F))\n",
    "display(S.x.express(F))\n",
    "display(S.y.express(F))\n"
   ]
  },
  {
   "cell_type": "markdown",
   "metadata": {},
   "source": [
    "\n",
    "1.9 As you can read in Chapter 3, the magnetic field around a long, \n",
    "straight wire carrying a steady current I is given in spherical \n",
    "coordinates by the expression ,\n",
    "$$ \\frac{\\mu_0 I}{2 \\pi R} \\hat \\phi$$ \n",
    "where $\\mu_0$ is a constant and $R$ is the perpendicular distance \n",
    "from the wire to the observation point. \n",
    "\n",
    "Find an expression for  in Cartesian coordinates. \n",
    "\n",
    "![](./images/spherical.jpg)\n"
   ]
  },
  {
   "cell_type": "code",
   "execution_count": 12,
   "metadata": {},
   "outputs": [
    {
     "data": {
      "text/latex": [
       "$\\displaystyle -  \\frac{I \\mu_{0} \\sin{\\left(\\phi \\right)}}{2 \\pi R}\\; {}^\\mathcal F \\hat \\imath + \\frac{I \\mu_{0} \\cos{\\left(\\phi \\right)}}{2 \\pi R}\\;{}^\\mathcal F \\hat \\jmath$"
      ],
      "text/plain": [
       "-I⋅μ₀⋅sin(φ)        I⋅μ₀⋅cos(φ)\n",
       "───────────── f_x + ─────────── f_y\n",
       "    2⋅π⋅R              2⋅π⋅R"
      ]
     },
     "execution_count": 12,
     "metadata": {},
     "output_type": "execute_result"
    }
   ],
   "source": [
    "PHI, THETA = sp.symbols(\"phi, theta\", real=True)\n",
    "mu0, eye, R = sp.symbols(\"mu_0, I, R\", real=True)\n",
    "F = reference_frame(\"F\")\n",
    "S = reference_frame(\"S\", \"r\", r\"\\phi\", r\"\\theta\" )\n",
    "S.orient_body_fixed(F, (PHI, THETA,  0), 'ZYZ')\n",
    "\n",
    "vec_b = mu0*eye/2/PI/R*S.y\n",
    "vec_b.express(F)\n"
   ]
  },
  {
   "cell_type": "markdown",
   "metadata": {},
   "source": [
    "\n",
    "1.10 \n",
    "\n",
    "If \n",
    "\n",
    "\n",
    "\\begin{align*}\n",
    "\\vec e_1 &= 5 \\hat \\imath – 3 \\hat \\jmath + 2 \\\\\n",
    "\\vec e_2 &= \\hat \\imath – 3  \\hat {\\mathbb k} \\\\\n",
    "\\vec e_3 &= 2î + ĵ – 4\n",
    "\\end{align*}\n",
    "\n",
    "what are the unit vectors $\\vec e_1, \\vec e_2, \\vec e_2$\n",
    "\n"
   ]
  },
  {
   "cell_type": "code",
   "execution_count": 13,
   "metadata": {},
   "outputs": [
    {
     "data": {
      "text/latex": [
       "$\\displaystyle \\left[ 0.81\\; {}^\\mathcal R \\hat \\imath - 0.49\\;{}^\\mathcal R \\hat \\jmath + 0.32\\: {}^\\mathcal R \\mathbf k, \\  0.32\\;{}^\\mathcal R \\hat \\jmath - 0.95\\: {}^\\mathcal R \\mathbf k, \\  0.44\\; {}^\\mathcal R \\hat \\imath + 0.22\\;{}^\\mathcal R \\hat \\jmath - 0.87\\: {}^\\mathcal R \\mathbf k\\right]$"
      ],
      "text/plain": [
       "[0.81 r_x + -0.49 r_y + 0.32 r_z, 0.32 r_y + -0.95 r_z, 0.44 r_x + 0.22 r_y + \n",
       "-0.87 r_z]"
      ]
     },
     "execution_count": 13,
     "metadata": {},
     "output_type": "execute_result"
    }
   ],
   "source": [
    "F = reference_frame(\"R\")\n",
    "\n",
    "vec_e1 = 5*F.x - 3*F.y + 2*F.z\n",
    "vec_e2 = F.y - 3*F.z\n",
    "vec_e3 = 2*F.x + F.y - 4*F.z\n",
    "\n",
    "[vec.normalize().evalf().applyfunc(lambda x: round(x,2)) \n",
    "    for vec in [vec_e1, vec_e2, vec_e3]]"
   ]
  }
 ],
 "metadata": {
  "kernelspec": {
   "display_name": "sympy",
   "language": "python",
   "name": "python3"
  },
  "language_info": {
   "codemirror_mode": {
    "name": "ipython",
    "version": 3
   },
   "file_extension": ".py",
   "mimetype": "text/x-python",
   "name": "python",
   "nbconvert_exporter": "python",
   "pygments_lexer": "ipython3",
   "version": "3.10.10"
  }
 },
 "nbformat": 4,
 "nbformat_minor": 2
}

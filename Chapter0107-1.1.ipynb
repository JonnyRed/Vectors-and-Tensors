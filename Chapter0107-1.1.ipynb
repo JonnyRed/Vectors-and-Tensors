{
 "cells": [
  {
   "cell_type": "code",
   "execution_count": 15,
   "metadata": {},
   "outputs": [],
   "source": [
    "import math\n",
    "import sympy as sp\n",
    "import sympy.physics.vector as spv\n",
    "\n",
    "import IPython.display as ipd\n",
    "spv.init_vprinting()\n",
    "%matplotlib inline\n",
    "\n",
    "HALF = sp.S.Half\n",
    "PI = sp.pi\n",
    "E = sp.exp\n",
    "POSITIVEINFINITY = sp.S.Infinity\n",
    "\n",
    "\n",
    "def reference_frame(\n",
    "    frame: str,\n",
    "    x=r'\\imath', y=r'\\jmath', z=r'\\mathbf k'\n",
    ") -> spv.ReferenceFrame:\n",
    "    return spv.ReferenceFrame(\n",
    "        frame, latexs=(\n",
    "            fr'\\; {{}}^\\mathcal {frame} \\hat {x}',\n",
    "            fr'\\;{{}}^\\mathcal {frame} \\hat {y}',\n",
    "            fr'\\: {{}}^\\mathcal {frame} \\hat {{z}}'\n",
    "        )\n",
    "    )\n",
    "\n",
    "\n",
    "def RAOreference_frame(\n",
    "    frame: str,\n",
    "    x=r'E_1', y='E_2', z=r'E_3'\n",
    ") -> spv.ReferenceFrame:\n",
    "    return spv.ReferenceFrame(\n",
    "        frame, latexs=(\n",
    "            fr'\\; {{}}^{frame} \\hat {x}',\n",
    "            fr'\\;{{}}^{frame} \\hat {y}',\n",
    "            fr'\\: {{}}^{frame} \\hat {z}'\n",
    "        )\n",
    "    )\n",
    "\n",
    "\n",
    "def vector(F: spv.ReferenceFrame, rx, ry, rz=0) -> spv.Vector:\n",
    "    return rx*F.x + ry*F.y + rz*F.z\n",
    "\n",
    "\n",
    "def vector_cos(\n",
    "    F: spv.ReferenceFrame, magnitude,\n",
    "    angle_x, angle_y, angle_z=sp.pi/2\n",
    ") -> spv.Vector:\n",
    "    return (magnitude *\n",
    "            (sp.cos(angle_x)*F.x\n",
    "             + sp.cos(angle_y)*F.y\n",
    "             + sp.cos(angle_z)*F.z\n",
    "             )\n",
    "            )\n",
    "\n",
    "\n",
    "def vector_line(\n",
    "    start: spv.Vector, finish: spv.Vector\n",
    ") -> spv.Vector:\n",
    "    return finish - start\n",
    "\n",
    "\n",
    "def vector_line_eqn(\n",
    "    F: spv.ReferenceFrame, start: spv.Vector, finish: spv.Vector, kappa\n",
    ") -> spv.Vector:\n",
    "    return start + vector_line(start, finish).normalize()*kappa\n",
    "\n",
    "\n",
    "def angle_between_vectors(a: spv.Vector, b: spv.Vector):\n",
    "    return sp.acos(a.dot(b)/a.magnitude()/b.magnitude())\n",
    "\n",
    "\n",
    "def print_aligned_latex_equations(*args):\n",
    "    result = r'\\\\'.join([\n",
    "        r'\\begin{equation}',\n",
    "        r'\\begin{split}',\n",
    "        *args,\n",
    "        r'\\nonumber',\n",
    "        r'\\end{split}',\n",
    "        r'\\end{equation}'\n",
    "    ])\n",
    "\n",
    "    ipd.display(ipd.Math( rf'{result}'))"
   ]
  },
  {
   "cell_type": "markdown",
   "metadata": {},
   "source": [
    "1.1 (a) If $\\vert \\vec B \\vert $ = 18 m and  points along the negative x-axis, \n",
    "what are $B_x$ and $B_y$?\n",
    "\n"
   ]
  },
  {
   "cell_type": "code",
   "execution_count": 16,
   "metadata": {},
   "outputs": [
    {
     "data": {
      "text/latex": [
       "$\\displaystyle - 18\\; {}^\\mathcal F \\hat \\imath$"
      ],
      "text/plain": [
       "-18 f_x"
      ]
     },
     "metadata": {},
     "output_type": "display_data"
    },
    {
     "data": {
      "image/png": "[encoded data removed]",
      "text/latex": [
       "$\\displaystyle \\left( -18, \\  0\\right)$"
      ],
      "text/plain": [
       "(-18, 0)"
      ]
     },
     "execution_count": 16,
     "metadata": {},
     "output_type": "execute_result"
    }
   ],
   "source": [
    "F = reference_frame(\"F\")\n",
    "vec_b = vector_cos(F, 18, PI, PI/2)\n",
    "display(vec_b)\n",
    "vec_b.dot(F.x), vec_b.dot(F.y)"
   ]
  },
  {
   "cell_type": "markdown",
   "metadata": {},
   "source": [
    "1.1 (b) If $C_x = –3$ m/s and $C_y = 5$ m/s, find the magnitude of $\\vec C$ \n",
    "and the angle that $\\vec C$  makes with the positive x-axis.\n"
   ]
  },
  {
   "cell_type": "code",
   "execution_count": 17,
   "metadata": {},
   "outputs": [
    {
     "data": {
      "image/png": "[encoded data removed]",
      "text/latex": [
       "$\\displaystyle \\sqrt{34}$"
      ],
      "text/plain": [
       "√34"
      ]
     },
     "metadata": {},
     "output_type": "display_data"
    },
    {
     "data": {
      "image/png": "[encoded data removed]",
      "text/latex": [
       "$\\displaystyle 120.963756532074$"
      ],
      "text/plain": [
       "120.96375653207352"
      ]
     },
     "execution_count": 17,
     "metadata": {},
     "output_type": "execute_result"
    }
   ],
   "source": [
    "F = reference_frame(\"F\")\n",
    "vec_c = vector(F, -3, 5)\n",
    "display(vec_c.magnitude())\n",
    "math.degrees(vec_c.angle_between(F.x).evalf())"
   ]
  },
  {
   "cell_type": "markdown",
   "metadata": {},
   "source": [
    "1.2 Vector  $\\vec A$ has magnitude of $11$ m/s2 and makes an angle of \n",
    "$65^\\circ$ degrees with the positive x-axis, and vector $\\vec B$  has\n",
    "Cartesian components $B_x =4$ m/s2, $B_y = – 3$ m/s2. \n",
    "If vector  $\\vec C = \\vec A +  \\vec B$, \n",
    "(a) Find the x- and y-components of $\\vec C$ \n",
    "(b) What are the magnitude and direction of $\\vec C$? \n"
   ]
  },
  {
   "cell_type": "markdown",
   "metadata": {},
   "source": [
    "\n",
    "1.3 Imagine that the y-axis points north and the x-axis points east. \n",
    "(a) If you travel a distance $r = 22$ km in a straight line from the origin in a direction \n",
    "35 degrees south of west, what is your position in Cartesian $(x, y)$ coordinates? \n",
    "(b) If you travel 6 miles due south from the origin and then turn west and travel 2 miles, \n",
    "how far from the origin and in what direction is your final position? \n"
   ]
  },
  {
   "cell_type": "markdown",
   "metadata": {},
   "source": [
    "\n",
    "1.4 What are the x- and y-components of the polar unit vectors $\\hat r $ and $\\hat \\theta$  when \n",
    "(a) θ = 180 degrees? \n",
    "(b) θ = 45 degrees? (c) θ = 215 degrees? \n"
   ]
  },
  {
   "cell_type": "markdown",
   "metadata": {},
   "source": [
    "\n",
    "1.5 Cylindrical coordinates \n",
    "(a) If r = 2 meters, $\\phi$ = 35 degrees, and z = 1 meter, what are x, y, and z? \n",
    "(b) If (x, y, z) = (3, 2, 4) meters, what are $(r, \\phi z)$? \n"
   ]
  },
  {
   "cell_type": "markdown",
   "metadata": {},
   "source": [
    "\n",
    "1.6 \n",
    "(a) In cylindrical coordinates, show that  points along the x-axis if $\\phi= 0$. \n",
    "(b) In what direction is  if $\\phi = 90^\\circ$ degrees? \n"
   ]
  },
  {
   "cell_type": "markdown",
   "metadata": {},
   "source": [
    "\n",
    "1.7 \n",
    "(a) In spherical coordinates, find x, y, and z if $ = 25$ meters, $\\theta= 25^\\circ $, \n",
    "and $\\phi = 110^\\circ$. \n",
    "(b) Find $(r, \\phi z)$ if (x, y, z) = (8, 10, 15) meters. \n"
   ]
  },
  {
   "cell_type": "markdown",
   "metadata": {},
   "source": [
    "\n",
    "1.8 \n",
    "(a) For spherical coordinates, show that $\\hat \\theta$ points along the \n",
    "negative z-axis if $\\theta = 90^\\circ$. \n",
    "(b) If $\\phi = 90^circ$,  in what direction are$\\hat r$  and $\\hat \\phi$? \n"
   ]
  },
  {
   "cell_type": "markdown",
   "metadata": {},
   "source": [
    "\n",
    "1.9 As you can read in Chapter 3, the magnetic field around a long, \n",
    "straight wire carrying a steady current I is given in spherical coordinates by the expression ,\n",
    "$$ \\frac{\\mu_0 I}{2 \\pi R} \\hat \\phi$$ \n",
    "where $\\mu_0$ is a constant and $R$ is the perpendicular distance from the wire to the observation point. \n",
    "Find an expression for  in Cartesian coordinates. \n"
   ]
  },
  {
   "cell_type": "markdown",
   "metadata": {},
   "source": [
    "\n",
    "1.10 If 1 = 5î – 3 ĵ + 2 , 2 = ĵ – 3 , and 3 = 2î + ĵ – 4 , what are the unit vectors ê1, ê2, and ê3?\n",
    "\n"
   ]
  }
 ],
 "metadata": {
  "kernelspec": {
   "display_name": "sympy",
   "language": "python",
   "name": "python3"
  },
  "language_info": {
   "codemirror_mode": {
    "name": "ipython",
    "version": 3
   },
   "file_extension": ".py",
   "mimetype": "text/x-python",
   "name": "python",
   "nbconvert_exporter": "python",
   "pygments_lexer": "ipython3",
   "version": "3.10.13"
  }
 },
 "nbformat": 4,
 "nbformat_minor": 2
}

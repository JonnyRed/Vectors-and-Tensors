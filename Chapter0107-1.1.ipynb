{
 "cells": [
  {
   "cell_type": "code",
   "execution_count": 1,
   "metadata": {},
   "outputs": [],
   "source": [
    "import math\n",
    "import sympy as sp\n",
    "import sympy.physics.vector as spv\n",
    "\n",
    "import IPython.display as ipd\n",
    "spv.init_vprinting()\n",
    "%matplotlib inline\n",
    "\n",
    "HALF = sp.S.Half\n",
    "PI = sp.pi\n",
    "E = sp.exp\n",
    "POSITIVEINFINITY = sp.S.Infinity\n",
    "\n",
    "\n",
    "def reference_frame(\n",
    "    frame: str,\n",
    "    x=r'\\imath', y=r'\\jmath', z=r'\\mathbf k'\n",
    ") -> spv.ReferenceFrame:\n",
    "    return spv.ReferenceFrame(\n",
    "        frame, latexs=(\n",
    "            fr'\\; {{}}^\\mathcal {frame} \\hat {x}',\n",
    "            fr'\\;{{}}^\\mathcal {frame} \\hat {y}',\n",
    "            fr'\\: {{}}^\\mathcal {frame} \\hat {{z}}'\n",
    "        )\n",
    "    )\n",
    "\n",
    "\n",
    "def RAOreference_frame(\n",
    "    frame: str,\n",
    "    x=r'E_1', y='E_2', z=r'E_3'\n",
    ") -> spv.ReferenceFrame:\n",
    "    return spv.ReferenceFrame(\n",
    "        frame, latexs=(\n",
    "            fr'\\; {{}}^{frame} \\hat {x}',\n",
    "            fr'\\;{{}}^{frame} \\hat {y}',\n",
    "            fr'\\: {{}}^{frame} \\hat {z}'\n",
    "        )\n",
    "    )\n",
    "\n",
    "\n",
    "def vector(F: spv.ReferenceFrame, rx, ry, rz=0) -> spv.Vector:\n",
    "    return rx*F.x + ry*F.y + rz*F.z\n",
    "\n",
    "\n",
    "def vector_cos(\n",
    "    F: spv.ReferenceFrame, magnitude,\n",
    "    angle_x, angle_y, angle_z=sp.pi/2\n",
    ") -> spv.Vector:\n",
    "    return (magnitude *\n",
    "            (sp.cos(angle_x)*F.x\n",
    "             + sp.cos(angle_y)*F.y\n",
    "             + sp.cos(angle_z)*F.z\n",
    "             )\n",
    "            )\n",
    "\n",
    "\n",
    "def vector_line(\n",
    "    start: spv.Vector, finish: spv.Vector\n",
    ") -> spv.Vector:\n",
    "    return finish - start\n",
    "\n",
    "\n",
    "def vector_line_eqn(\n",
    "    F: spv.ReferenceFrame, start: spv.Vector, finish: spv.Vector, kappa\n",
    ") -> spv.Vector:\n",
    "    return start + vector_line(start, finish).normalize()*kappa\n",
    "\n",
    "\n",
    "def angle_between_vectors(a: spv.Vector, b: spv.Vector):\n",
    "    return sp.acos(a.dot(b)/a.magnitude()/b.magnitude())\n",
    "\n",
    "\n",
    "def print_aligned_latex_equations(*args):\n",
    "    result = r'\\\\'.join([\n",
    "        r'\\begin{equation}',\n",
    "        r'\\begin{split}',\n",
    "        *args,\n",
    "        r'\\nonumber',\n",
    "        r'\\end{split}',\n",
    "        r'\\end{equation}'\n",
    "    ])\n",
    "\n",
    "    ipd.display(ipd.Math( rf'{result}'))"
   ]
  },
  {
   "cell_type": "markdown",
   "metadata": {},
   "source": [
    "1.1 (a) If $\\vert \\vec B \\vert $ = 18 m and  points along the negative x-axis, \n",
    "what are $B_x$ and $B_y$?\n",
    "\n"
   ]
  },
  {
   "cell_type": "code",
   "execution_count": 2,
   "metadata": {},
   "outputs": [
    {
     "data": {
      "text/latex": [
       "$\\displaystyle \\begin{equation}\\\\\\begin{split}\\\\B_x, B_y &=(-18, 0)\\\\\\nonumber\\\\\\end{split}\\\\\\end{equation}$"
      ],
      "text/plain": [
       "<IPython.core.display.Math object>"
      ]
     },
     "metadata": {},
     "output_type": "display_data"
    }
   ],
   "source": [
    "F = reference_frame(\"F\")\n",
    "vec_b = vector_cos(F, 18, PI, PI/2)\n",
    "b_x, b_y = vec_b.dot(F.x), vec_b.dot(F.y)\n",
    "\n",
    "solution_text = [\n",
    "    r'B_x, B_y &=' fr'{(b_x, b_y)}'\n",
    "]\n",
    "\n",
    "print_aligned_latex_equations(*solution_text)\n"
   ]
  },
  {
   "cell_type": "markdown",
   "metadata": {},
   "source": [
    "1.1 (b) If $C_x = –3$ m/s and $C_y = 5$ m/s, find the magnitude of $\\vec C$ \n",
    "and the angle that $\\vec C$  makes with the positive x-axis.\n"
   ]
  },
  {
   "cell_type": "code",
   "execution_count": 3,
   "metadata": {},
   "outputs": [
    {
     "data": {
      "text/latex": [
       "$\\displaystyle \\begin{equation}\\\\\\begin{split}\\\\\\textrm{magnitude of } \\vec C &=\\sqrt{34}\\\\\\textrm{Angle with }+x \\textrm{ axis} &=120.963756532074^\\circ\\\\\\nonumber\\\\\\end{split}\\\\\\end{equation}$"
      ],
      "text/plain": [
       "<IPython.core.display.Math object>"
      ]
     },
     "metadata": {},
     "output_type": "display_data"
    }
   ],
   "source": [
    "F = reference_frame(\"F\")\n",
    "vec_c = vector(F, -3, 5)\n",
    "magnitude = vec_c.magnitude()\n",
    "angle = math.degrees(vec_c.angle_between(F.x).evalf())\n",
    "solution_text = [\n",
    "    r'\\textrm{magnitude of } \\vec C &=' \n",
    "        fr'{spv.vlatex(vec_c.magnitude())}',\n",
    "    r'\\textrm{Angle with }+x \\textrm{ axis} &=' fr'{spv.vlatex(angle)}^\\circ'\n",
    "]\n",
    "\n",
    "print_aligned_latex_equations(*solution_text)\n"
   ]
  },
  {
   "cell_type": "markdown",
   "metadata": {},
   "source": [
    "1.2 Vector  $\\vec A$ has magnitude of $11$ m/s2 and makes an angle of\n",
    "$65^\\circ$ degrees with the positive x-axis, and vector $\\vec B$  has\n",
    "Cartesian components $B_x =4$ m/s2, $B_y = – 3$ m/s2. \n",
    "If vector  $\\vec C = \\vec A +  \\vec B$, \n",
    "1. Find the x- and y-components of $\\vec C$ \n",
    "1. What are the magnitude and direction of $\\vec C$? \n"
   ]
  },
  {
   "cell_type": "code",
   "execution_count": 4,
   "metadata": {},
   "outputs": [
    {
     "data": {
      "text/latex": [
       "$\\displaystyle \\begin{equation}\\\\\\begin{split}\\\\\\textrm{Components of } \\vec C &=(8.64880087914769, 6.96938565740315)\\\\\\textrm{magnitude } &=11.1073891211555\\\\\\textrm{direction } &=38.862597806946084\\\\\\nonumber\\\\\\end{split}\\\\\\end{equation}$"
      ],
      "text/plain": [
       "<IPython.core.display.Math object>"
      ]
     },
     "metadata": {},
     "output_type": "display_data"
    }
   ],
   "source": [
    "F = reference_frame(\"R\")\n",
    "vec_a = vector_cos(F,11, math.radians(65), math.radians(90-65))\n",
    "vec_b = 4*F.x + (-3)*F.y\n",
    "vec_c = vec_a + vec_b\n",
    "c_x, c_y = vec_c.dot(F.x), vec_c.dot(F.y)\n",
    "magnitude, direction = vec_c.magnitude(), math.degrees(vec_c.angle_between(F.x))\n",
    "\n",
    "solution_text = [\n",
    "    r'\\textrm{Components of } \\vec C &=' fr'{c_x, c_y}',\n",
    "    r'\\textrm{magnitude } &=' fr'{magnitude}',\n",
    "    r'\\textrm{direction } &=' fr'{direction}'\n",
    "]\n",
    "\n",
    "print_aligned_latex_equations(*solution_text)"
   ]
  },
  {
   "cell_type": "markdown",
   "metadata": {},
   "source": [
    "\n",
    "1.3 Imagine that the y-axis points north and the x-axis points east. \n",
    "1. If you travel a distance $r = 22$ km in a straight line from the origin in a direction $35^\\circ$ south of west, what is your position in Cartesian $(x, y)\n",
    "$ coordinates? \n",
    "1. If you travel 6 miles due south from the origin and then turn west \n",
    "and travel 2 miles, how far from the origin and in what direction \n",
    "is your final position? \n"
   ]
  },
  {
   "cell_type": "code",
   "execution_count": 5,
   "metadata": {},
   "outputs": [
    {
     "data": {
      "text/latex": [
       "$\\displaystyle \\begin{equation}\\\\\\begin{split}\\\\\\textrm{Components of position } \\vec C &=(-18.0213449743578, -12.6186815997230)\\\\\\textrm{distance } &=6.32455532033676\\\\\\textrm{direction } &=-114.59155902616465^\\circ\\\\\\nonumber\\\\\\end{split}\\\\\\end{equation}$"
      ],
      "text/plain": [
       "<IPython.core.display.Math object>"
      ]
     },
     "metadata": {},
     "output_type": "display_data"
    }
   ],
   "source": [
    "F = reference_frame(\"R\")\n",
    "r, theta = sp.symbols(\"R, theta\", positive=True)\n",
    "values = {r:22, theta:math.radians(35)}\n",
    "\n",
    "vec_r = vector_cos(F, r, PI+theta, PI/2+theta)\n",
    "x, y = vec_r.dot(F.x).subs(values), vec_r.dot(F.y).subs(values)\n",
    "\n",
    "vec_d = 6*(-F.y) + 2*(-F.x) \n",
    "distance = vec_d.magnitude().evalf()\n",
    "direction = math.degrees(vec_d.dot(F.x))\n",
    "\n",
    "solution_text = [\n",
    "    r'\\textrm{Components of position } \\vec C &=' fr'{x, y}',\n",
    "    r'\\textrm{distance } &=' fr'{distance}',\n",
    "    r'\\textrm{direction } &=' fr'{direction}^\\circ'\n",
    "]\n",
    "\n",
    "print_aligned_latex_equations(*solution_text)\n",
    "\n"
   ]
  },
  {
   "cell_type": "markdown",
   "metadata": {},
   "source": [
    "\n",
    "1.4 What are the x- and y-components of the polar unit vectors $\\hat r $ \n",
    "and $\\hat \\theta$  when \n",
    "1. $\\theta$ = $180^\\circ$? \n",
    "1. $\\theta$ = $45^\\circ$? \n",
    "1. $\\theta$ = $215^\\circ$? "
   ]
  },
  {
   "cell_type": "code",
   "execution_count": 6,
   "metadata": {},
   "outputs": [
    {
     "data": {
      "text/latex": [
       "$\\displaystyle \\begin{equation}\\\\\\begin{split}\\\\\\textrm{Angle } 180\\quad \\textrm{ Components of } \\hat r, \\hat \\theta &=\\left( - \\; {}^\\mathcal R \\hat \\imath, \\  - \\;{}^\\mathcal R \\hat \\jmath\\right)\\\\\\textrm{Angle } 45\\quad \\textrm{ Components of } \\hat r, \\hat \\theta &=\\left( \\frac{\\sqrt{2}}{2}\\; {}^\\mathcal R \\hat \\imath + \\frac{\\sqrt{2}}{2}\\;{}^\\mathcal R \\hat \\jmath, \\  -  \\frac{\\sqrt{2}}{2}\\; {}^\\mathcal R \\hat \\imath + \\frac{\\sqrt{2}}{2}\\;{}^\\mathcal R \\hat \\jmath\\right)\\\\\\textrm{Angle } 215\\quad \\textrm{ Components of } \\hat r, \\hat \\theta &=\\left( -  \\cos{\\left(\\frac{7 \\pi}{36} \\right)}\\; {}^\\mathcal R \\hat \\imath -  \\sin{\\left(\\frac{7 \\pi}{36} \\right)}\\;{}^\\mathcal R \\hat \\jmath, \\  \\sin{\\left(\\frac{7 \\pi}{36} \\right)}\\; {}^\\mathcal R \\hat \\imath -  \\cos{\\left(\\frac{7 \\pi}{36} \\right)}\\;{}^\\mathcal R \\hat \\jmath\\right)\\\\\\nonumber\\\\\\end{split}\\\\\\end{equation}$"
      ],
      "text/plain": [
       "<IPython.core.display.Math object>"
      ]
     },
     "metadata": {},
     "output_type": "display_data"
    }
   ],
   "source": [
    "F = reference_frame(\"R\")\n",
    "\n",
    "components = []\n",
    "for theta in [180, 45, 215]:\n",
    "    P = reference_frame(\"P\", r'{r}', r'\\theta')\n",
    "    P.orient_axis(F, F.z, theta*PI/180)\n",
    "    components.extend([(P.x.express(F), P.y.express(F))])\n",
    "    \n",
    "solution_text = []\n",
    "for inx, theta in enumerate([180, 45, 215]):\n",
    "    solution_text.extend(\n",
    "        [ r'\\textrm{Angle } ' fr'{theta}' \n",
    "          r'\\quad \\textrm{ Components of } \\hat r, \\hat \\theta &=' \n",
    "            fr'{spv.vlatex(components[inx])}'\n",
    "        ]\n",
    "    )\n",
    "\n",
    "print_aligned_latex_equations(*solution_text)"
   ]
  },
  {
   "cell_type": "markdown",
   "metadata": {},
   "source": [
    "\n",
    "1.5 Cylindrical coordinates \n",
    "1. If r = 2 meters, $\\phi= 35^\\circ$, and z = 1 meter, \n",
    "what are x, y, and z? \n",
    "1. If $(x, y, z) = (3, 2, 4)$ meters, what are $(r, \\phi, z)$? \n",
    "\n",
    "![](./images/cylinder.jpg)\n"
   ]
  },
  {
   "cell_type": "code",
   "execution_count": 7,
   "metadata": {},
   "outputs": [
    {
     "data": {
      "text/latex": [
       "$\\displaystyle \\begin{equation}\\\\\\begin{split}\\\\\\textrm{Components x, y, z } &=(1.06, 1.97, 0)\\\\\\textrm{Components r, } \\phi, \\, z  &=3.60, -4.72, 4.00\\\\\\nonumber\\\\\\end{split}\\\\\\end{equation}$"
      ],
      "text/plain": [
       "<IPython.core.display.Math object>"
      ]
     },
     "metadata": {},
     "output_type": "display_data"
    }
   ],
   "source": [
    "F = reference_frame(\"R\")\n",
    "C = reference_frame(\"C\", \"r\", \"\\phi\")\n",
    "\n",
    "C.orient_axis(F, F.z, 35/180*PI)\n",
    "\n",
    "\n",
    "result1 = (2*C.x + 1*C.y).express(F).applyfunc(lambda x: x.evalf(3))\n",
    "solution_text1 = (\n",
    "    r'\\textrm{Components x, y, z } &=' \n",
    "        fr'{result1.dot(F.x), result1.dot(F.y), result1.dot(F.z)}'\n",
    ")\n",
    "\n",
    "result2 = (3*F.x + 2*F.y + 4*F.z).express(C).applyfunc(lambda x: x.evalf(3))\n",
    "solution_text2 = (\n",
    "    r'\\textrm{Components r, } \\phi, \\, z  &=' \n",
    "        fr'{result2.dot(C.x) }, ' \n",
    "        fr'{round(math.degrees(result2.dot(C.y)), 2)}, ' \n",
    "        fr'{result2.dot(C.z)}'\n",
    ")\n",
    "\n",
    "print_aligned_latex_equations(solution_text1, solution_text2)\n"
   ]
  },
  {
   "cell_type": "markdown",
   "metadata": {},
   "source": [
    "\n",
    "1.6 \n",
    "1. In cylindrical coordinates, show that  points along the x-axis if $\\phi= 0$. \n",
    "1. In what direction is  if $\\phi = 90^\\circ$ degrees? \n",
    "\n",
    "![](./images/cylinder.jpg)"
   ]
  },
  {
   "cell_type": "markdown",
   "metadata": {},
   "source": [
    "\n",
    "1.7 \n",
    "1. In spherical coordinates, find x, y, and z if $r = 25$ meters, \n",
    "$\\theta= 25^\\circ $, and $\\phi = 110^\\circ$. \n",
    "1. Find $(r, \\phi, z)$ if $(x, y, z) = (8, 10, 15)$ meters. \n",
    "\n",
    "![](./images/spherical.jpg)\n"
   ]
  },
  {
   "cell_type": "code",
   "execution_count": 8,
   "metadata": {},
   "outputs": [
    {
     "data": {
      "text/latex": [
       "$\\displaystyle - 7.75\\; {}^\\mathcal R \\hat \\imath + 21.3\\;{}^\\mathcal R \\hat \\jmath - 10.6\\: {}^\\mathcal R \\hat {z}$"
      ],
      "text/plain": [
       "-7.75 r_x + 21.3 r_y + -10.6 r_z"
      ]
     },
     "metadata": {},
     "output_type": "display_data"
    },
    {
     "data": {
      "text/latex": [
       "$\\displaystyle 8.0\\; {}^\\mathcal R \\hat \\imath + 10.0\\;{}^\\mathcal R \\hat \\jmath + 15.0\\: {}^\\mathcal R \\hat {z}$"
      ],
      "text/plain": [
       "8.00 r_x + 10.0 r_y + 15.0 r_z"
      ]
     },
     "metadata": {},
     "output_type": "display_data"
    }
   ],
   "source": [
    "F = reference_frame(\"R\")\n",
    "S = reference_frame(\"C\", \"r\", r\"\\phi\", r\"\\theta\")\n",
    "S.orient_body_fixed(F, (110*PI/180, 25*PI/180, 0), 'ZYZ')\n",
    "\n",
    "vec_1 = 25*S.x \n",
    "display(vec_1.express(F).applyfunc(lambda x: x.evalf(3)))\n",
    "\n",
    "vec_2 = 8*F.x + 10*F.y +15*F.z\n",
    "display(vec_2.applyfunc(lambda x: x.evalf(3)))"
   ]
  },
  {
   "cell_type": "markdown",
   "metadata": {},
   "source": [
    "\n",
    "1.8 \n",
    "1. For spherical coordinates, show that $\\hat \\theta$ points along the \n",
    "negative z-axis if $\\theta = 90^\\circ$. \n",
    "1. If $\\phi = 90^\\circ$,  in what direction are $\\hat r$  and $\\hat \\phi$? \n",
    "\n",
    "![](./images/spherical.jpg)\n"
   ]
  },
  {
   "cell_type": "code",
   "execution_count": 9,
   "metadata": {},
   "outputs": [
    {
     "data": {
      "text/latex": [
       "$\\displaystyle (- b \\sin{\\left(\\phi \\right)} + c \\cos{\\left(\\phi \\right)})\\; {}^\\mathcal R \\hat \\imath + (b \\cos{\\left(\\phi \\right)} + c \\sin{\\left(\\phi \\right)})\\;{}^\\mathcal R \\hat \\jmath -  a\\: {}^\\mathcal R \\hat {z}$"
      ],
      "text/plain": [
       "(-b⋅sin(φ) + c⋅cos(φ)) r_x + (b⋅cos(φ) + c⋅sin(φ)) r_y + -a r_z"
      ]
     },
     "metadata": {},
     "output_type": "display_data"
    },
    {
     "data": {
      "text/latex": [
       "$\\displaystyle -  b\\; {}^\\mathcal R \\hat \\imath + c\\;{}^\\mathcal R \\hat \\jmath -  a\\: {}^\\mathcal R \\hat {z}$"
      ],
      "text/plain": [
       "-b r_x + c r_y + -a r_z"
      ]
     },
     "metadata": {},
     "output_type": "display_data"
    }
   ],
   "source": [
    "phi = sp.symbols(\"phi\", real=True)\n",
    "a, b, c = sp.symbols(\"a, b, c\", real=True)\n",
    "F = reference_frame(\"R\")\n",
    "S = reference_frame(\"C\", \"r\", r\"\\phi\", r\"\\theta\" )\n",
    "S.orient_body_fixed(F, (phi, 90*PI/180,  0), 'ZYZ')\n",
    "\n",
    "vec_1 = a*S.x + b*S.y + c*S.z\n",
    "display(vec_1.express(F))\n",
    "\n",
    "S = reference_frame(\"C\", \"r\", r\"\\phi\", r\"\\theta\" )\n",
    "S.orient_body_fixed(F, (90*PI/180, 90*PI/180,  0), 'ZYZ')\n",
    "vec_2 = a*S.x + b*S.y + c*S.z\n",
    "display(vec_2.express(F))"
   ]
  },
  {
   "cell_type": "markdown",
   "metadata": {},
   "source": [
    "\n",
    "1.9 As you can read in Chapter 3, the magnetic field around a long, \n",
    "straight wire carrying a steady current I is given in spherical \n",
    "coordinates by the expression ,\n",
    "$$ \\frac{\\mu_0 I}{2 \\pi R} \\hat \\phi$$ \n",
    "where $\\mu_0$ is a constant and $R$ is the perpendicular distance \n",
    "from the wire to the observation point. \n",
    "\n",
    "Find an expression for  in Cartesian coordinates. \n"
   ]
  },
  {
   "cell_type": "markdown",
   "metadata": {},
   "source": [
    "\n",
    "1.10 If \n",
    "\\begin{align*}\n",
    "\\vec e_1 &= 5 \\hat \\imath – 3 \\hat \\jmath + 2 \\\\\n",
    "\\vec e_2 &= \\hat \\imath – 3  \\hat {\\mathbb k} \\\\\n",
    "\\vec e_3 &= 2î + ĵ – 4\n",
    "\\end{align*}\n",
    "\n",
    "what are the unit vectors $\\vec e_1, \\vec e_2, \\vec e_2$\n",
    "\n"
   ]
  }
 ],
 "metadata": {
  "kernelspec": {
   "display_name": "sympy",
   "language": "python",
   "name": "python3"
  },
  "language_info": {
   "codemirror_mode": {
    "name": "ipython",
    "version": 3
   },
   "file_extension": ".py",
   "mimetype": "text/x-python",
   "name": "python",
   "nbconvert_exporter": "python",
   "pygments_lexer": "ipython3",
   "version": "3.10.13"
  }
 },
 "nbformat": 4,
 "nbformat_minor": 2
}

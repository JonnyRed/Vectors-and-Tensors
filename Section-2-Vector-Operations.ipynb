{
 "cells": [
  {
   "cell_type": "code",
   "execution_count": 1,
   "metadata": {},
   "outputs": [],
   "source": [
    "\n",
    "import doctest\n",
    "import math\n",
    "\n",
    "import spb\n",
    "import sympy as sp\n",
    "import sympy.vector as sv\n",
    "\n",
    "HALF = sp.S.Half\n",
    "PI = sp.pi\n",
    "E = sp.exp\n",
    "POSITIVEINFINITY = sp.S.Infinity\n",
    "\n",
    "\n",
    "def vector(F: sv.CoordSys3D, rx, ry, rz=0) -> sv.Vector:\n",
    "    \"\"\"\n",
    "    Create a vector in a specified reference frame.\n",
    "\n",
    "    Args:\n",
    "        F (sv.CoordSys3D): The reference frame in which the vector is defined.\n",
    "        rx (float): The coefficient of the x-axis vector component.\n",
    "        ry (float): The coefficient of the y-axis vector component.\n",
    "        rz (float, optional): The coefficient of the z-axis vector component (default: 0).\n",
    "\n",
    "    Returns:\n",
    "        sv.Vector: The vector composed of the specified components in the given reference frame.\n",
    "\n",
    "    Examples:\n",
    "        >>> N = sv.CoordSys3D('N')\n",
    "        >>> vector(N, 1, 0, 0)\n",
    "        N.i\n",
    "\n",
    "        >>> vector(N, 0, 1, 0)\n",
    "        N.j\n",
    "\n",
    "        >>> vector(N, 0, 0, 1)\n",
    "        N.k\n",
    "\n",
    "        >>> vector(N, 1, 2)\n",
    "        N.i + 2*N.j\n",
    "\n",
    "        >>> vector(N, 1, 2, 3)\n",
    "        N.i + 2*N.j + 3*N.k\n",
    "\n",
    "        >>> vector(N, 5.0, 5.1, 7.7)\n",
    "        5.0*N.i + 5.1*N.j + 7.7*N.k\n",
    "\n",
    "        >>> vector(N, 1, 2, 3)\n",
    "        N.i + 2*N.j + 3*N.k\n",
    "    \"\"\"\n",
    "    return rx*F.i + ry*F.j + rz*F.k\n",
    "\n",
    "\n",
    "def vector_cos(\n",
    "    F: sv.CoordSys3D, magnitude, theta, phi, psi=sp.pi / 2\n",
    ") -> sv.Vector:\n",
    "    \"\"\"\n",
    "    Create a vector with components defined by cosine values in a specified reference frame.\n",
    "\n",
    "    Args:\n",
    "        F (sv.CoordSys3D): The reference frame in which the vector is defined.\n",
    "        magnitude (float): The magnitude of the vector.\n",
    "        theta (float): The angle (in radians) between the vector and the x-axis.\n",
    "        phi (float): The angle (in radians) between the vector and the y-axis.\n",
    "        psi (float, optional): The angle (in radians) between the\n",
    "            vector and the z-axis (default: pi/2).\n",
    "\n",
    "    Returns:\n",
    "        sv.Vector: The vector with components determined by the cosine\n",
    "        values in the given reference frame.\n",
    "\n",
    "    Examples:\n",
    "        >>> N = sv.CoordSys3D('N')\n",
    "        >>> vector_cos(N, 1, PI/2, sp.Float(0))\n",
    "        N.j\n",
    "\n",
    "        >>> vector_cos(N, 1, 0, PI/2)\n",
    "        N.i\n",
    "\n",
    "        >>> vector_cos(N, sp.sqrt(2), PI/4, PI/4).simplify()\n",
    "        N.i + N.j\n",
    "\n",
    "        >>> vector_cos(N, 1, PI/2, 0)\n",
    "        N.j\n",
    "\n",
    "        >>> vector_cos(N, 41, PI/2 + PI/4, 2*PI/3, PI/3)\n",
    "        (-41*sqrt(2)/2)*N.i + (-41/2)*N.j + 41/2*N.k\n",
    "\n",
    "        >>> n = sp.sqrt(93)\n",
    "        >>> vector_cos(N, n, 5/n, 2/n, 8/n)\n",
    "        (sqrt(93)*cos(5*sqrt(93)/93))*N.i + (sqrt(93)*cos(2*sqrt(93)/93))*N.j + (sqrt(93)*cos(8*sqrt(93)/93))*N.k\n",
    "    \"\"\"\n",
    "\n",
    "    return magnitude * (sp.cos(theta)*F.i + sp.cos(phi)*F.j + sp.cos(psi)*F.k)\n",
    "\n",
    "\n",
    "def create_3d_components(*args):\n",
    "    \"\"\"\n",
    "    Create 3D components for given symbols.\n",
    "\n",
    "    Args:\n",
    "        *args (str): Variable names for which 3D components are to be created.\n",
    "\n",
    "    Returns:\n",
    "        list: A list containing 3D component symbols for each input variable.\n",
    "\n",
    "    Examples:\n",
    "        >>> create_3d_components('a')\n",
    "        [(a_{x}, a_{y}, a_{z})]\n",
    "\n",
    "        >>> create_3d_components('a', 'b')\n",
    "        [(a_{x}, a_{y}, a_{z}), (b_{x}, b_{y}, b_{z})]\n",
    "\n",
    "    \"\"\"\n",
    "    return [sp.symbols(f\"{ch}_{{x:z}}\", real=True) for ch in args]\n",
    "\n",
    "\n",
    "def create_vectors(frame: sv.CoordSys3D, *args) -> list:\n",
    "    \"\"\"\n",
    "    Create a list of vectors in a specified reference frame.\n",
    "\n",
    "    This function takes a reference frame and multiple sets of components as arguments\n",
    "    and returns a list of vectors created from these components in the given reference frame.\n",
    "\n",
    "    Args:\n",
    "        frame (sv.CoordSys3D): The reference frame in which the vectors are defined.\n",
    "        *args: Variable-length argument list containing sets of vector components.\n",
    "\n",
    "    Returns:\n",
    "        list: A list of vectors composed of the specified components in the given reference frame.\n",
    "\n",
    "    Examples:\n",
    "        >>> N = sv.CoordSys3D('N')\n",
    "        >>> create_vectors(N, \"a\")\n",
    "        [a_{x}*N.i + a_{y}*N.j + a_{z}*N.k]\n",
    "\n",
    "        >>> create_vectors(N, \"a\", \"b\")\n",
    "        [a_{x}*N.i + a_{y}*N.j + a_{z}*N.k, b_{x}*N.i + b_{y}*N.j + b_{z}*N.k]\n",
    "\n",
    "    \"\"\"\n",
    "    return [vector(frame, *c) for c in create_3d_components(*args)]\n",
    "\n",
    "\n",
    "def angle_between_two_vectors(frame: sv.CoordSys3D, v1:sv.Vector, v2:sv.Vector):\n",
    "    \"\"\"Smallest angle between two vectors\n",
    "\n",
    "    Args:The reference frame in which the vectors are defined.\n",
    "        v1 (sv.Vector): first vector\n",
    "        v2 (sv.Vector): second vector\n",
    "        \n",
    "    Returns:\n",
    "        Any: arcos of smallest angle between two vectors\n",
    "        \n",
    "        Examples:\n",
    "        >>> N = sv.CoordSys3D('N')\n",
    "        >>> a = 3*N.i + 4*N.j\n",
    "        >>> b = 2*N.i - N.j\n",
    "        >>> round(angle_between_two_vectors(N, a, b).evalf(), 4)\n",
    "        0.1789\n",
    "\n",
    "        >>> v1 = N.i\n",
    "        >>> v2 = N.j\n",
    "        >>> angle_between_two_vectors(N, v1, v2)\n",
    "        0\n",
    "\n",
    "        >>> v3 = N.i + N.j + N.k\n",
    "        >>> angle_between_two_vectors(N, v1, v3)\n",
    "        sqrt(3)/3\n",
    "\n",
    "        >>> a = N.i + N.j\n",
    "        >>> b = 2*N.i + 2*N.j\n",
    "        >>> angle_between_two_vectors(N, a, b)\n",
    "        1\n",
    "\n",
    "        >>> a = 2*N.i - 4*N.j - 1*N.k\n",
    "        >>> b = 5 * N.j +2*N.k\n",
    "        >>> angle_between_two_vectors(N, a, b)\n",
    "        -22*sqrt(609)/609\n",
    "\n",
    "        >>> N = sv.CoordSys3D('N')\n",
    "        >>> vec_A, vec_B = 5*N.i - 2*N.j + 4*N.k, 3*N.i + 1*N.j + 7*N.k\n",
    "        >>> cos_angle = angle_between_two_vectors(N, vec_A, vec_B)\n",
    "        >>> round(math.degrees(sp.acos(cos_angle)), 1) # doctest: +NORMALIZE_WHITESPACE \n",
    "        37.3        \n",
    "        \n",
    "    \"\"\"\n",
    "    return sv.dot(v1, v2)/v1.magnitude()/v2.magnitude()\n",
    "\n",
    "\n",
    "def print_aligned_latex_equations(*args):\n",
    "    result = r'\\\\'.join([\n",
    "        r'\\begin{equation}',\n",
    "        r'\\begin{split}',\n",
    "        *args,\n",
    "        r'\\nonumber',\n",
    "        r'\\end{split}',\n",
    "        r'\\end{equation}'\n",
    "    ])\n",
    "\n",
    "    ipd.display(ipd.Math( rf'{result}'))\n",
    "    "
   ]
  },
  {
   "cell_type": "markdown",
   "metadata": {},
   "source": [
    "\\begin{align*}\n",
    "    \\mathbf{a} \\cdot \\mathbf{b} &= \n",
    "    \\Vert \\mathbf{a} \\Vert \\Vert \\mathbf{b} \\Vert \\cos(\\theta)\n",
    "    & \\text{where $\\theta$ is the angle between $ \\mathbf{a}$ and $\\mathbf{b}$} \\\\\n",
    "    \\mathbf{a} \\cdot \\mathbf{b} &= \\mathbf{b} \\cdot \\mathbf{a} \\\\\n",
    "    \\mathbf{a} \\times \\mathbf{b} &\\neq \\mathbf{b} \\times \\mathbf{a} \\\\\n",
    "    \\mathbf{a} \\times \\mathbf{b} &= - \\mathbf{b} \\times \\mathbf{a} \\\\\n",
    "    \\mathbf{a} + \\mathbf{b} &= \n",
    "        \\mathbf{b} + \\mathbf{a} \\\\\n",
    "    (\\mathbf{a} + \\mathbf{b}) + \\mathbf{c} &= \n",
    "        \\mathbf{a} + (\\mathbf{b} + \\mathbf{c}) \\\\ \\\\\n",
    "    \\alpha (\\mathbf{a} + \\mathbf{b}) &= \n",
    "        \\alpha \\mathbf{a} + \\alpha \\mathbf{b}\\\\\n",
    "    \\mathbf{a} \\cdot (\\mathbf{b} + \\mathbf{c}) &= \n",
    "        \\mathbf{a} \\cdot \\mathbf{b} + \\mathbf{a} \\cdot \\mathbf{c}\\\\\n",
    "    \\mathbf{a} \\times (\\mathbf{b} + \\mathbf{c}) &= \n",
    "        \\mathbf{a} \\times \\mathbf{b} +\n",
    "        \\mathbf{a} \\times \\mathbf{b} \\\\\n",
    "    \\mathbf{a} \\cdot (\\mathbf{b} \\times \\mathbf{c}) &= \n",
    "    \\mathbf{c} \\cdot (\\mathbf{a} \\times \\mathbf{b})= \n",
    "    \\mathbf{b} \\cdot (\\mathbf{c} \\times \\mathbf{a}) \\\\\n",
    "    \\mathbf{a} \\times (\\mathbf{b} \\times \\mathbf{c}) &= \n",
    "    \\mathbf{b}(\\mathbf{a}\n",
    "        \\cdot \\mathbf{c}) - \\mathbf{c}(\\mathbf{a} \\cdot \\mathbf{b})\n",
    "\\end{align*}\n",
    "\n",
    "$\\mathbf a, \\mathbf b, \\mathbf c$ are coplanar iff \n",
    "$\\mathbf a \\cdot (\\mathbf b \\times \\mathbf c) = 0 $"
   ]
  },
  {
   "cell_type": "markdown",
   "metadata": {},
   "source": [
    "## 2.1 Scalar Product"
   ]
  },
  {
   "cell_type": "code",
   "execution_count": 2,
   "metadata": {},
   "outputs": [
    {
     "data": {
      "text/latex": [
       "$\\displaystyle A_{x} B_{x} + A_{y} B_{y} + A_{z} B_{z}$"
      ],
      "text/plain": [
       "A_x*B_x + A_y*B_y + A_z*B_z"
      ]
     },
     "execution_count": 2,
     "metadata": {},
     "output_type": "execute_result"
    }
   ],
   "source": [
    "N = sv.CoordSys3D('N')\n",
    "A, B = [ sp.symbols(rf'{ch}_x:z', real=True) for ch in ['A', 'B'] ]\n",
    "vec_A = A[0]*N.i + A[1]*N.j + A[2]*N.k\n",
    "vec_B = B[0]*N.i + B[1]*N.j + B[2]*N.k\n",
    "vec_A.dot(vec_B)"
   ]
  },
  {
   "cell_type": "code",
   "execution_count": 3,
   "metadata": {},
   "outputs": [],
   "source": [
    "# Code example from text\n",
    "N = sv.CoordSys3D('N')\n",
    "vec_A, vec_B = 5*N.i - 2*N.j + 4*N.k, 3*N.i + 1*N.j + 7*N.k\n",
    "cos_angle = angle_between_two_vectors(N, vec_A, vec_B)\n",
    "assert round(math.degrees(sp.acos(cos_angle)), 1), 37.3"
   ]
  },
  {
   "cell_type": "markdown",
   "metadata": {},
   "source": [
    "## Cross Product"
   ]
  },
  {
   "cell_type": "code",
   "execution_count": 5,
   "metadata": {},
   "outputs": [
    {
     "data": {
      "text/latex": [
       "$\\displaystyle \\left(A_{y} B_{z} - A_{z} B_{y}\\right)\\mathbf{\\hat{i}_{N}} + \\left(- A_{x} B_{z} + A_{z} B_{x}\\right)\\mathbf{\\hat{j}_{N}} + \\left(A_{x} B_{y} - A_{y} B_{x}\\right)\\mathbf{\\hat{k}_{N}}$"
      ],
      "text/plain": [
       "(A_{y}*B_{z} - A_{z}*B_{y})*N.i + (-A_{x}*B_{z} + A_{z}*B_{x})*N.j + (A_{x}*B_{y} - A_{y}*B_{x})*N.k"
      ]
     },
     "execution_count": 5,
     "metadata": {},
     "output_type": "execute_result"
    }
   ],
   "source": [
    "N = sv.CoordSys3D('N')\n",
    "vec_A, vec_B = create_vectors(N, \"A\", \"B\")\n",
    "vec_A.cross(vec_B)"
   ]
  },
  {
   "cell_type": "markdown",
   "metadata": {},
   "source": [
    "## 2.3 Scalar Triple Product"
   ]
  },
  {
   "cell_type": "code",
   "execution_count": 7,
   "metadata": {},
   "outputs": [
    {
     "data": {
      "text/latex": [
       "$\\displaystyle A_{x} \\left(B_{y} C_{z} - B_{z} C_{y}\\right) + A_{y} \\left(- B_{x} C_{z} + B_{z} C_{x}\\right) + A_{z} \\left(B_{x} C_{y} - B_{y} C_{x}\\right)$"
      ],
      "text/plain": [
       "A_{x}*(B_{y}*C_{z} - B_{z}*C_{y}) + A_{y}*(-B_{x}*C_{z} + B_{z}*C_{x}) + A_{z}*(B_{x}*C_{y} - B_{y}*C_{x})"
      ]
     },
     "execution_count": 7,
     "metadata": {},
     "output_type": "execute_result"
    }
   ],
   "source": [
    "N = sv.CoordSys3D('N')\n",
    "vec_A, vec_B, vec_C = create_vectors(N, \"A\", \"B\", \"C\")\n",
    "vec_A.dot(vec_B.cross(vec_C))"
   ]
  },
  {
   "cell_type": "markdown",
   "metadata": {},
   "source": [
    "## Vector Triple Product\n",
    "\n",
    "$$    \\mathbf{a} \\times (\\mathbf{b} \\times \\mathbf{c}) = \n",
    "    \\mathbf{b}(\\mathbf{a}\n",
    "        \\cdot \\mathbf{c}) - \\mathbf{c}(\\mathbf{a} \\cdot \\mathbf{b})\n",
    "$$"
   ]
  },
  {
   "cell_type": "code",
   "execution_count": 22,
   "metadata": {},
   "outputs": [
    {
     "data": {
      "text/latex": [
       "$\\displaystyle \\left(A_{y} B_{x} C_{y} - A_{y} B_{y} C_{x} + A_{z} B_{x} C_{z} - A_{z} B_{z} C_{x}\\right)\\mathbf{\\hat{i}_{N}} + \\left(- A_{x} B_{x} C_{y} + A_{x} B_{y} C_{x} + A_{z} B_{y} C_{z} - A_{z} B_{z} C_{y}\\right)\\mathbf{\\hat{j}_{N}} + \\left(- A_{x} B_{x} C_{z} + A_{x} B_{z} C_{x} - A_{y} B_{y} C_{z} + A_{y} B_{z} C_{y}\\right)\\mathbf{\\hat{k}_{N}}$"
      ],
      "text/plain": [
       "(A_{y}*B_{x}*C_{y} - A_{y}*B_{y}*C_{x} + A_{z}*B_{x}*C_{z} - A_{z}*B_{z}*C_{x})*N.i + (-A_{x}*B_{x}*C_{y} + A_{x}*B_{y}*C_{x} + A_{z}*B_{y}*C_{z} - A_{z}*B_{z}*C_{y})*N.j + (-A_{x}*B_{x}*C_{z} + A_{x}*B_{z}*C_{x} - A_{y}*B_{y}*C_{z} + A_{y}*B_{z}*C_{y})*N.k"
      ]
     },
     "metadata": {},
     "output_type": "display_data"
    }
   ],
   "source": [
    "N = sv.CoordSys3D('N')\n",
    "vec_A, vec_B, vec_C = create_vectors(N, \"A\", \"B\", \"C\")\n",
    "vtp = vec_A.cross(vec_B.cross(vec_C)).expand()\n",
    "display(vtp)\n",
    "simplified_vtp = (vec_B*(vec_A.dot(vec_C)) - vec_C*(vec_A.dot(vec_B))).expand()\n",
    "assert vtp == simplified_vtp"
   ]
  },
  {
   "cell_type": "code",
   "execution_count": 6,
   "metadata": {},
   "outputs": [
    {
     "data": {
      "text/plain": [
       "TestResults(failed=0, attempted=40)"
      ]
     },
     "execution_count": 6,
     "metadata": {},
     "output_type": "execute_result"
    }
   ],
   "source": [
    "doctest.testmod(verbose=False)\n"
   ]
  }
 ],
 "metadata": {
  "kernelspec": {
   "display_name": "sympy",
   "language": "python",
   "name": "python3"
  },
  "language_info": {
   "codemirror_mode": {
    "name": "ipython",
    "version": 3
   },
   "file_extension": ".py",
   "mimetype": "text/x-python",
   "name": "python",
   "nbconvert_exporter": "python",
   "pygments_lexer": "ipython3",
   "version": "3.10.10"
  }
 },
 "nbformat": 4,
 "nbformat_minor": 2
}
